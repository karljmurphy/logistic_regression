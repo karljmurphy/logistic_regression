{
  "nbformat": 4,
  "nbformat_minor": 0,
  "metadata": {
    "colab": {
      "name": "LR.ipynb",
      "provenance": [],
      "authorship_tag": "ABX9TyOOu842Eu0P0OfWxBkczs1j",
      "include_colab_link": true
    },
    "kernelspec": {
      "name": "python3",
      "display_name": "Python 3"
    }
  },
  "cells": [
    {
      "cell_type": "markdown",
      "metadata": {
        "id": "view-in-github",
        "colab_type": "text"
      },
      "source": [
        "<a href=\"https://colab.research.google.com/github/karljmurphy/logistic_regression/blob/master/LR.ipynb\" target=\"_parent\"><img src=\"https://colab.research.google.com/assets/colab-badge.svg\" alt=\"Open In Colab\"/></a>"
      ]
    },
    {
      "cell_type": "code",
      "metadata": {
        "id": "EOHeJTTEjT22",
        "colab_type": "code",
        "outputId": "c2092bed-0a16-4ddf-9777-8cac04068718",
        "colab": {
          "resources": {
            "http://localhost:8080/nbextensions/google.colab/files.js": {
              "data": "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",
              "ok": true,
              "headers": [
                [
                  "content-type",
                  "application/javascript"
                ]
              ],
              "status": 200,
              "status_text": ""
            }
          },
          "base_uri": "https://localhost:8080/",
          "height": 75
        }
      },
      "source": [
        "from sklearn.model_selection import train_test_split\n",
        "from sklearn.preprocessing import LabelEncoder\n",
        "import statsmodels.formula.api as smf\n",
        "import statsmodels.api as sm\n",
        "import statsmodels.discrete.discrete_model as sml\n",
        "import numpy as np\n",
        "import matplotlib.pyplot as plt\n",
        "import plotly.express as px\n",
        "import pandas as pd\n",
        "import seaborn as sns\n",
        "from google.colab import files\n",
        "uploaded = files.upload()\n"
      ],
      "execution_count": 2,
      "outputs": [
        {
          "output_type": "display_data",
          "data": {
            "text/html": [
              "\n",
              "     <input type=\"file\" id=\"files-cd50fac4-e65a-4d93-a43c-52941dd87565\" name=\"files[]\" multiple disabled />\n",
              "     <output id=\"result-cd50fac4-e65a-4d93-a43c-52941dd87565\">\n",
              "      Upload widget is only available when the cell has been executed in the\n",
              "      current browser session. Please rerun this cell to enable.\n",
              "      </output>\n",
              "      <script src=\"/nbextensions/google.colab/files.js\"></script> "
            ],
            "text/plain": [
              "<IPython.core.display.HTML object>"
            ]
          },
          "metadata": {
            "tags": []
          }
        },
        {
          "output_type": "stream",
          "text": [
            "Saving iris_2.csv to iris_2.csv\n"
          ],
          "name": "stdout"
        }
      ]
    },
    {
      "cell_type": "code",
      "metadata": {
        "id": "qg2lMbyRjeq0",
        "colab_type": "code",
        "outputId": "f465a366-2b76-4126-e2e4-aa8a4933587a",
        "colab": {
          "base_uri": "https://localhost:8080/",
          "height": 295
        }
      },
      "source": [
        "df = pd.read_csv('iris_2.csv')\n",
        "df.describe()"
      ],
      "execution_count": 3,
      "outputs": [
        {
          "output_type": "execute_result",
          "data": {
            "text/html": [
              "<div>\n",
              "<style scoped>\n",
              "    .dataframe tbody tr th:only-of-type {\n",
              "        vertical-align: middle;\n",
              "    }\n",
              "\n",
              "    .dataframe tbody tr th {\n",
              "        vertical-align: top;\n",
              "    }\n",
              "\n",
              "    .dataframe thead th {\n",
              "        text-align: right;\n",
              "    }\n",
              "</style>\n",
              "<table border=\"1\" class=\"dataframe\">\n",
              "  <thead>\n",
              "    <tr style=\"text-align: right;\">\n",
              "      <th></th>\n",
              "      <th>Id</th>\n",
              "      <th>SepalLengthCm</th>\n",
              "      <th>SepalWidthCm</th>\n",
              "      <th>PetalLengthCm</th>\n",
              "      <th>PetalWidthCm</th>\n",
              "      <th>Species</th>\n",
              "    </tr>\n",
              "  </thead>\n",
              "  <tbody>\n",
              "    <tr>\n",
              "      <th>count</th>\n",
              "      <td>150.000000</td>\n",
              "      <td>150.000000</td>\n",
              "      <td>150.000000</td>\n",
              "      <td>150.000000</td>\n",
              "      <td>150.000000</td>\n",
              "      <td>150.000000</td>\n",
              "    </tr>\n",
              "    <tr>\n",
              "      <th>mean</th>\n",
              "      <td>75.500000</td>\n",
              "      <td>5.843333</td>\n",
              "      <td>3.054000</td>\n",
              "      <td>3.758667</td>\n",
              "      <td>1.198667</td>\n",
              "      <td>1.000000</td>\n",
              "    </tr>\n",
              "    <tr>\n",
              "      <th>std</th>\n",
              "      <td>43.445368</td>\n",
              "      <td>0.828066</td>\n",
              "      <td>0.433594</td>\n",
              "      <td>1.764420</td>\n",
              "      <td>0.763161</td>\n",
              "      <td>0.819232</td>\n",
              "    </tr>\n",
              "    <tr>\n",
              "      <th>min</th>\n",
              "      <td>1.000000</td>\n",
              "      <td>4.300000</td>\n",
              "      <td>2.000000</td>\n",
              "      <td>1.000000</td>\n",
              "      <td>0.100000</td>\n",
              "      <td>0.000000</td>\n",
              "    </tr>\n",
              "    <tr>\n",
              "      <th>25%</th>\n",
              "      <td>38.250000</td>\n",
              "      <td>5.100000</td>\n",
              "      <td>2.800000</td>\n",
              "      <td>1.600000</td>\n",
              "      <td>0.300000</td>\n",
              "      <td>0.000000</td>\n",
              "    </tr>\n",
              "    <tr>\n",
              "      <th>50%</th>\n",
              "      <td>75.500000</td>\n",
              "      <td>5.800000</td>\n",
              "      <td>3.000000</td>\n",
              "      <td>4.350000</td>\n",
              "      <td>1.300000</td>\n",
              "      <td>1.000000</td>\n",
              "    </tr>\n",
              "    <tr>\n",
              "      <th>75%</th>\n",
              "      <td>112.750000</td>\n",
              "      <td>6.400000</td>\n",
              "      <td>3.300000</td>\n",
              "      <td>5.100000</td>\n",
              "      <td>1.800000</td>\n",
              "      <td>2.000000</td>\n",
              "    </tr>\n",
              "    <tr>\n",
              "      <th>max</th>\n",
              "      <td>150.000000</td>\n",
              "      <td>7.900000</td>\n",
              "      <td>4.400000</td>\n",
              "      <td>6.900000</td>\n",
              "      <td>2.500000</td>\n",
              "      <td>2.000000</td>\n",
              "    </tr>\n",
              "  </tbody>\n",
              "</table>\n",
              "</div>"
            ],
            "text/plain": [
              "               Id  SepalLengthCm  ...  PetalWidthCm     Species\n",
              "count  150.000000     150.000000  ...    150.000000  150.000000\n",
              "mean    75.500000       5.843333  ...      1.198667    1.000000\n",
              "std     43.445368       0.828066  ...      0.763161    0.819232\n",
              "min      1.000000       4.300000  ...      0.100000    0.000000\n",
              "25%     38.250000       5.100000  ...      0.300000    0.000000\n",
              "50%     75.500000       5.800000  ...      1.300000    1.000000\n",
              "75%    112.750000       6.400000  ...      1.800000    2.000000\n",
              "max    150.000000       7.900000  ...      2.500000    2.000000\n",
              "\n",
              "[8 rows x 6 columns]"
            ]
          },
          "metadata": {
            "tags": []
          },
          "execution_count": 3
        }
      ]
    },
    {
      "cell_type": "markdown",
      "metadata": {
        "id": "M7fbeyaVjO23",
        "colab_type": "text"
      },
      "source": [
        "# Observation: means and medians for each recorded feature are close which suggests that data is normally distributed"
      ]
    },
    {
      "cell_type": "code",
      "metadata": {
        "id": "FhquF3VLkPRf",
        "colab_type": "code",
        "outputId": "e7f9b3cb-f584-4961-fbf5-dce7cc38dd94",
        "colab": {
          "base_uri": "https://localhost:8080/",
          "height": 297
        }
      },
      "source": [
        "\n",
        "sns.countplot(x='Species', data=df, palette='hls')\n",
        "plt.show()\n",
        "plt.savefig('count-plot')\n"
      ],
      "execution_count": 4,
      "outputs": [
        {
          "output_type": "display_data",
          "data": {
            "image/png": "[encoded data removed]",
            "text/plain": [
              "<Figure size 432x288 with 1 Axes>"
            ]
          },
          "metadata": {
            "tags": []
          }
        },
        {
          "output_type": "display_data",
          "data": {
            "text/plain": [
              "<Figure size 432x288 with 0 Axes>"
            ]
          },
          "metadata": {
            "tags": []
          }
        }
      ]
    },
    {
      "cell_type": "markdown",
      "metadata": {
        "id": "yaNOLM-akZGs",
        "colab_type": "text"
      },
      "source": [
        "# We see from the above histogram that the \"Species\" variable is well balanced with equal representations which minimizes the risk of bias occurring as would be the case if one class had more records than another."
      ]
    },
    {
      "cell_type": "code",
      "metadata": {
        "id": "LmqOfG1Uueo6",
        "colab_type": "code",
        "outputId": "76e97a35-cb20-4f8c-c0b5-af16a8c391c0",
        "colab": {
          "base_uri": "https://localhost:8080/",
          "height": 613
        }
      },
      "source": [
        "sns.set(style=\"ticks\") \n",
        "plt.figure(figsize=(12,10))\n",
        "plt.subplot(2,2,1)\n",
        "sns.boxplot(x='Species',y='SepalLengthCm',data=df)\n",
        "plt.subplot(2,2,2)\n",
        "sns.boxplot(x='Species',y='SepalWidthCm',data=df)\n",
        "plt.subplot(2,2,3)\n",
        "sns.boxplot(x='Species',y='PetalLengthCm',data=df)\n",
        "plt.subplot(2,2,4)\n",
        "sns.boxplot(x='Species',y='PetalWidthCm',data=df)\n",
        "plt.show()"
      ],
      "execution_count": 5,
      "outputs": [
        {
          "output_type": "display_data",
          "data": {
            "image/png": "[encoded data removed]",
            "text/plain": [
              "<Figure size 864x720 with 4 Axes>"
            ]
          },
          "metadata": {
            "tags": []
          }
        }
      ]
    },
    {
      "cell_type": "markdown",
      "metadata": {
        "id": "fI4rvkivu5yk",
        "colab_type": "text"
      },
      "source": [
        "# The isolated points that can be seen in the box-plots above are the outliers in the data. Since these are very few in number, it wouldn't have any significant impact on our analysis."
      ]
    },
    {
      "cell_type": "code",
      "metadata": {
        "id": "X_ovlvfHkq9i",
        "colab_type": "code",
        "outputId": "4ea4b340-bda6-44c3-d078-cbb35e0d0b00",
        "colab": {
          "base_uri": "https://localhost:8080/",
          "height": 301
        }
      },
      "source": [
        "df.SepalLengthCm.hist()\n",
        "plt.title('Analysis of SepalLengthCm')\n",
        "plt.xlabel('SepalLengthCm')\n",
        "plt.ylabel('Frequency')\n",
        "plt.savefig('SepalLengthCm')"
      ],
      "execution_count": 6,
      "outputs": [
        {
          "output_type": "display_data",
          "data": {
            "image/png": "[encoded data removed]",
            "text/plain": [
              "<Figure size 432x288 with 1 Axes>"
            ]
          },
          "metadata": {
            "tags": []
          }
        }
      ]
    },
    {
      "cell_type": "markdown",
      "metadata": {
        "id": "5H2jRRLjnwQS",
        "colab_type": "text"
      },
      "source": [
        "# Observation: Distribution is not perfectly Gaussian since the tails of the distribution have ample data."
      ]
    },
    {
      "cell_type": "code",
      "metadata": {
        "id": "TBD_623anwyX",
        "colab_type": "code",
        "outputId": "92cd626a-4830-4868-f59e-e166aadfa7da",
        "colab": {
          "base_uri": "https://localhost:8080/",
          "height": 301
        }
      },
      "source": [
        "df.SepalWidthCm.hist()\n",
        "plt.title('Analysis of SepalWidthCm')\n",
        "plt.xlabel('SepalWidthCm')\n",
        "plt.ylabel('Frequency')\n",
        "plt.savefig('SepalWidthCm')"
      ],
      "execution_count": 7,
      "outputs": [
        {
          "output_type": "display_data",
          "data": {
            "image/png": "[encoded data removed]",
            "text/plain": [
              "<Figure size 432x288 with 1 Axes>"
            ]
          },
          "metadata": {
            "tags": []
          }
        }
      ]
    },
    {
      "cell_type": "markdown",
      "metadata": {
        "id": "xOc5deIGn25E",
        "colab_type": "text"
      },
      "source": [
        "# Observation: Distribution looks normally distributed. "
      ]
    },
    {
      "cell_type": "code",
      "metadata": {
        "id": "4yp0v7vDn3I1",
        "colab_type": "code",
        "colab": {}
      },
      "source": [
        "df.PetalLengthCm.hist()\n",
        "plt.title('Analysis of PetalLengthCm')\n",
        "plt.xlabel('PetalLengthCm')\n",
        "plt.ylabel('Frequency')\n",
        "plt.savefig('PetalLengthCm')"
      ],
      "execution_count": 0,
      "outputs": []
    },
    {
      "cell_type": "markdown",
      "metadata": {
        "id": "ejUoINtHn7zU",
        "colab_type": "text"
      },
      "source": [
        "# Observation: Missing data at interval between 2-3cm. Was the sample size too small and so data was not collected or does data for these points not exist in nature? How do we correct?"
      ]
    },
    {
      "cell_type": "code",
      "metadata": {
        "id": "JBoS9hpkn8AI",
        "colab_type": "code",
        "colab": {}
      },
      "source": [
        "df.PetalWidthCm.hist()\n",
        "plt.title('Analysis of PetalWidthCm')\n",
        "plt.xlabel('PetalWidthCm')\n",
        "plt.ylabel('Frequency')\n",
        "plt.savefig('PetPetalWidthCmalLengthCm')"
      ],
      "execution_count": 0,
      "outputs": []
    },
    {
      "cell_type": "markdown",
      "metadata": {
        "id": "B3WjDLojoB3S",
        "colab_type": "text"
      },
      "source": [
        ""
      ]
    },
    {
      "cell_type": "code",
      "metadata": {
        "id": "m1LKrK0ZyDbY",
        "colab_type": "code",
        "colab": {}
      },
      "source": [
        "df.groupby('Species').mean()"
      ],
      "execution_count": 0,
      "outputs": []
    },
    {
      "cell_type": "markdown",
      "metadata": {
        "id": "_dzR0y8GyI4e",
        "colab_type": "text"
      },
      "source": [
        "# Observations:\n",
        "\n",
        "Sepal Width variable may not be a great predictor of the class but petal width may be a good predictor variable"
      ]
    },
    {
      "cell_type": "code",
      "metadata": {
        "id": "KRr3RdJVki6x",
        "colab_type": "code",
        "colab": {}
      },
      "source": [
        "corr = df.corr()[['Species']].sort_values(by='Species',ascending=False)\n",
        "corr.style.background_gradient()"
      ],
      "execution_count": 0,
      "outputs": []
    },
    {
      "cell_type": "markdown",
      "metadata": {
        "id": "mX6_Rcvyv3ya",
        "colab_type": "text"
      },
      "source": [
        "# Petal length and width very highly correlated with class of flower. Sepal Width has a lesser correlation that is negative. This suggests that the top 3 vars should be included in our model (that is omit Sepal Width)"
      ]
    },
    {
      "cell_type": "code",
      "metadata": {
        "id": "RDnGmaTfGYpA",
        "colab_type": "code",
        "colab": {}
      },
      "source": [
        "sns.regplot('SepalLengthCm', # Horizontal axis\n",
        "           'Species', # Vertical axis\n",
        "           data=df)"
      ],
      "execution_count": 0,
      "outputs": []
    },
    {
      "cell_type": "markdown",
      "metadata": {
        "id": "G5x61ghRGaOf",
        "colab_type": "text"
      },
      "source": [
        "# Observation: from the plot we can see that there is a lot of overlap between the 3 classes in terms of Sepal Length data points"
      ]
    },
    {
      "cell_type": "code",
      "metadata": {
        "id": "oFPwSlUCGsI1",
        "colab_type": "code",
        "colab": {}
      },
      "source": [
        "sns.regplot('SepalWidthCm', # Horizontal axis\n",
        "           'Species', # Vertical axis\n",
        "           data=df)"
      ],
      "execution_count": 0,
      "outputs": []
    },
    {
      "cell_type": "markdown",
      "metadata": {
        "id": "cEou_1wHG64o",
        "colab_type": "text"
      },
      "source": [
        "# Again, while there is a negative correlation here there is a lot of overlap"
      ]
    },
    {
      "cell_type": "code",
      "metadata": {
        "id": "bEgBQaglHGBD",
        "colab_type": "code",
        "colab": {}
      },
      "source": [
        "sns.regplot('PetalLengthCm', # Horizontal axis\n",
        "           'Species', # Vertical axis\n",
        "           data=df)"
      ],
      "execution_count": 0,
      "outputs": []
    },
    {
      "cell_type": "markdown",
      "metadata": {
        "id": "0jW8RzF4HMim",
        "colab_type": "text"
      },
      "source": [
        "# Observation: Petal length would be a good var to classify between class 0 and class 1 and less so between class 1 and class 2"
      ]
    },
    {
      "cell_type": "code",
      "metadata": {
        "id": "YPPDvvWgHZgw",
        "colab_type": "code",
        "colab": {}
      },
      "source": [
        "sns.regplot('PetalWidthCm', # Horizontal axis\n",
        "           'Species', # Vertical axis\n",
        "           data=df)"
      ],
      "execution_count": 0,
      "outputs": []
    },
    {
      "cell_type": "markdown",
      "metadata": {
        "id": "XcCSxfNrH3-b",
        "colab_type": "text"
      },
      "source": [
        "# Observation: Petal Width would be a good var to classify between class 0 and class 1 and less so between class 1 and class 2"
      ]
    },
    {
      "cell_type": "code",
      "metadata": {
        "id": "tg_QpyNII2-h",
        "colab_type": "code",
        "outputId": "0ebb7890-d6c3-4b51-b313-2d389850f744",
        "colab": {
          "base_uri": "https://localhost:8080/",
          "height": 475
        }
      },
      "source": [
        "formula_str=\"SepalLengthCm~C(Species)\"\n",
        "result=smf.ols(formula=formula_str,data=df).fit()\n",
        "print(result.summary())"
      ],
      "execution_count": 16,
      "outputs": [
        {
          "output_type": "stream",
          "text": [
            "                            OLS Regression Results                            \n",
            "==============================================================================\n",
            "Dep. Variable:          SepalLengthCm   R-squared:                       0.619\n",
            "Model:                            OLS   Adj. R-squared:                  0.614\n",
            "Method:                 Least Squares   F-statistic:                     119.3\n",
            "Date:                Tue, 11 Feb 2020   Prob (F-statistic):           1.67e-31\n",
            "Time:                        18:27:09   Log-Likelihood:                -111.73\n",
            "No. Observations:                 150   AIC:                             229.5\n",
            "Df Residuals:                     147   BIC:                             238.5\n",
            "Df Model:                           2                                         \n",
            "Covariance Type:            nonrobust                                         \n",
            "===================================================================================\n",
            "                      coef    std err          t      P>|t|      [0.025      0.975]\n",
            "-----------------------------------------------------------------------------------\n",
            "Intercept           5.0060      0.073     68.762      0.000       4.862       5.150\n",
            "C(Species)[T.1]     0.9300      0.103      9.033      0.000       0.727       1.133\n",
            "C(Species)[T.2]     1.5820      0.103     15.366      0.000       1.379       1.785\n",
            "==============================================================================\n",
            "Omnibus:                        1.188   Durbin-Watson:                   2.043\n",
            "Prob(Omnibus):                  0.552   Jarque-Bera (JB):                0.785\n",
            "Skew:                           0.119   Prob(JB):                        0.675\n",
            "Kurtosis:                       3.263   Cond. No.                         3.73\n",
            "==============================================================================\n",
            "\n",
            "Warnings:\n",
            "[1] Standard Errors assume that the covariance matrix of the errors is correctly specified.\n"
          ],
          "name": "stdout"
        }
      ]
    },
    {
      "cell_type": "markdown",
      "metadata": {
        "id": "K1EkVHInLg8L",
        "colab_type": "text"
      },
      "source": [
        "# Observations: P value suggests var is statistically significant. How about the JB and the Durbin Watson values? Are they on the low side? Or ok? Does it make sense to perform a regression analysis like this when there is more than one independent variable? Should we conduct a multivariate analysis instead?"
      ]
    },
    {
      "cell_type": "code",
      "metadata": {
        "id": "Kvv7o1vTL2aI",
        "colab_type": "code",
        "outputId": "2fe37e0d-da92-46f7-e00b-72653053b0d0",
        "colab": {
          "base_uri": "https://localhost:8080/",
          "height": 475
        }
      },
      "source": [
        "formula_str=\"SepalWidthCm~C(Species)\"\n",
        "result=smf.ols(formula=formula_str,data=df).fit()\n",
        "print(result.summary())"
      ],
      "execution_count": 17,
      "outputs": [
        {
          "output_type": "stream",
          "text": [
            "                            OLS Regression Results                            \n",
            "==============================================================================\n",
            "Dep. Variable:           SepalWidthCm   R-squared:                       0.392\n",
            "Model:                            OLS   Adj. R-squared:                  0.384\n",
            "Method:                 Least Squares   F-statistic:                     47.36\n",
            "Date:                Tue, 11 Feb 2020   Prob (F-statistic):           1.33e-16\n",
            "Time:                        18:27:20   Log-Likelihood:                -49.688\n",
            "No. Observations:                 150   AIC:                             105.4\n",
            "Df Residuals:                     147   BIC:                             114.4\n",
            "Df Model:                           2                                         \n",
            "Covariance Type:            nonrobust                                         \n",
            "===================================================================================\n",
            "                      coef    std err          t      P>|t|      [0.025      0.975]\n",
            "-----------------------------------------------------------------------------------\n",
            "Intercept           3.4180      0.048     70.998      0.000       3.323       3.513\n",
            "C(Species)[T.1]    -0.6480      0.068     -9.518      0.000      -0.783      -0.513\n",
            "C(Species)[T.2]    -0.4440      0.068     -6.521      0.000      -0.579      -0.309\n",
            "==============================================================================\n",
            "Omnibus:                        1.885   Durbin-Watson:                   1.858\n",
            "Prob(Omnibus):                  0.390   Jarque-Bera (JB):                1.565\n",
            "Skew:                           0.057   Prob(JB):                        0.457\n",
            "Kurtosis:                       3.487   Cond. No.                         3.73\n",
            "==============================================================================\n",
            "\n",
            "Warnings:\n",
            "[1] Standard Errors assume that the covariance matrix of the errors is correctly specified.\n"
          ],
          "name": "stdout"
        }
      ]
    },
    {
      "cell_type": "markdown",
      "metadata": {
        "id": "mBsBQkkIMCXd",
        "colab_type": "text"
      },
      "source": [
        "# Observation: Durbin Watson and JB values - what is the impact here if any?"
      ]
    },
    {
      "cell_type": "code",
      "metadata": {
        "id": "XGXaAqwuMM3W",
        "colab_type": "code",
        "outputId": "cd29be60-8f63-4f32-cb2e-5f8a62b20592",
        "colab": {
          "base_uri": "https://localhost:8080/",
          "height": 475
        }
      },
      "source": [
        "formula_str=\"PetalLengthCm~C(Species)\"\n",
        "result=smf.ols(formula=formula_str,data=df).fit()\n",
        "print(result.summary())"
      ],
      "execution_count": 18,
      "outputs": [
        {
          "output_type": "stream",
          "text": [
            "                            OLS Regression Results                            \n",
            "==============================================================================\n",
            "Dep. Variable:          PetalLengthCm   R-squared:                       0.941\n",
            "Model:                            OLS   Adj. R-squared:                  0.941\n",
            "Method:                 Least Squares   F-statistic:                     1179.\n",
            "Date:                Tue, 11 Feb 2020   Prob (F-statistic):           3.05e-91\n",
            "Time:                        18:27:25   Log-Likelihood:                -84.840\n",
            "No. Observations:                 150   AIC:                             175.7\n",
            "Df Residuals:                     147   BIC:                             184.7\n",
            "Df Model:                           2                                         \n",
            "Covariance Type:            nonrobust                                         \n",
            "===================================================================================\n",
            "                      coef    std err          t      P>|t|      [0.025      0.975]\n",
            "-----------------------------------------------------------------------------------\n",
            "Intercept           1.4640      0.061     24.057      0.000       1.344       1.584\n",
            "C(Species)[T.1]     2.7960      0.086     32.488      0.000       2.626       2.966\n",
            "C(Species)[T.2]     4.0880      0.086     47.500      0.000       3.918       4.258\n",
            "==============================================================================\n",
            "Omnibus:                        4.393   Durbin-Watson:                   2.000\n",
            "Prob(Omnibus):                  0.111   Jarque-Bera (JB):                5.370\n",
            "Skew:                           0.121   Prob(JB):                       0.0682\n",
            "Kurtosis:                       3.895   Cond. No.                         3.73\n",
            "==============================================================================\n",
            "\n",
            "Warnings:\n",
            "[1] Standard Errors assume that the covariance matrix of the errors is correctly specified.\n"
          ],
          "name": "stdout"
        }
      ]
    },
    {
      "cell_type": "code",
      "metadata": {
        "id": "6UWpSeInMbU-",
        "colab_type": "code",
        "outputId": "112b8b45-5ae8-495a-bb62-64b1e99d28c8",
        "colab": {
          "base_uri": "https://localhost:8080/",
          "height": 475
        }
      },
      "source": [
        "formula_str=\"PetalWidthCm~C(Species)\"\n",
        "result=smf.ols(formula=formula_str,data=df).fit()\n",
        "print(result.summary())"
      ],
      "execution_count": 19,
      "outputs": [
        {
          "output_type": "stream",
          "text": [
            "                            OLS Regression Results                            \n",
            "==============================================================================\n",
            "Dep. Variable:           PetalWidthCm   R-squared:                       0.929\n",
            "Model:                            OLS   Adj. R-squared:                  0.928\n",
            "Method:                 Least Squares   F-statistic:                     959.3\n",
            "Date:                Tue, 11 Feb 2020   Prob (F-statistic):           4.38e-85\n",
            "Time:                        18:27:28   Log-Likelihood:                 26.411\n",
            "No. Observations:                 150   AIC:                            -46.82\n",
            "Df Residuals:                     147   BIC:                            -37.79\n",
            "Df Model:                           2                                         \n",
            "Covariance Type:            nonrobust                                         \n",
            "===================================================================================\n",
            "                      coef    std err          t      P>|t|      [0.025      0.975]\n",
            "-----------------------------------------------------------------------------------\n",
            "Intercept           0.2440      0.029      8.418      0.000       0.187       0.301\n",
            "C(Species)[T.1]     1.0820      0.041     26.395      0.000       1.001       1.163\n",
            "C(Species)[T.2]     1.7820      0.041     43.471      0.000       1.701       1.863\n",
            "==============================================================================\n",
            "Omnibus:                        1.224   Durbin-Watson:                   1.996\n",
            "Prob(Omnibus):                  0.542   Jarque-Bera (JB):                0.822\n",
            "Skew:                          -0.054   Prob(JB):                        0.663\n",
            "Kurtosis:                       3.346   Cond. No.                         3.73\n",
            "==============================================================================\n",
            "\n",
            "Warnings:\n",
            "[1] Standard Errors assume that the covariance matrix of the errors is correctly specified.\n"
          ],
          "name": "stdout"
        }
      ]
    },
    {
      "cell_type": "code",
      "metadata": {
        "id": "__N5hqKtk8-z",
        "colab_type": "code",
        "colab": {}
      },
      "source": [
        "from statsmodels.stats.outliers_influence import variance_inflation_factor\n",
        "from patsy import dmatrices\n",
        "from statsmodels.api import add_constant\n",
        "X=df[['SepalLengthCm','SepalWidthCm','PetalLengthCm','PetalWidthCm']]\n",
        "X = add_constant(X)\n",
        "y=df['Species']\n",
        "vif = [variance_inflation_factor(X.to_numpy(), i) for i in range(X.to_numpy().shape[1])]\n",
        "\n",
        "print(vif[1:])"
      ],
      "execution_count": 0,
      "outputs": []
    },
    {
      "cell_type": "markdown",
      "metadata": {
        "id": "UZMis8kywV-N",
        "colab_type": "text"
      },
      "source": [
        "# What is the significance of this test on the data?"
      ]
    },
    {
      "cell_type": "code",
      "metadata": {
        "id": "xC2j5bkOlLT-",
        "colab_type": "code",
        "colab": {}
      },
      "source": [
        "\n",
        "x=df[['SepalLengthCm','SepalWidthCm','PetalLengthCm','PetalWidthCm']]\n",
        "y=df['Species']\n",
        "logit = sml.MNLogit(y, x)\n",
        "mdl_fit = logit.fit()\n",
        "print(mdl_fit.summary())"
      ],
      "execution_count": 0,
      "outputs": []
    },
    {
      "cell_type": "markdown",
      "metadata": {
        "id": "q3AUBaAHy57k",
        "colab_type": "text"
      },
      "source": [
        "# Observation: StatsModel convergence failure when doing multivariate analysis. What is the best way to conduct analysis of dataset and to find reliable p-values for each coefficient?"
      ]
    },
    {
      "cell_type": "code",
      "metadata": {
        "id": "aeYB3bXvzA-D",
        "colab_type": "code",
        "colab": {}
      },
      "source": [
        "x_train, x_test, y_train, y_test = train_test_split(x, y, test_size = 0.25, random_state = 0)"
      ],
      "execution_count": 0,
      "outputs": []
    },
    {
      "cell_type": "code",
      "metadata": {
        "id": "qKA71vcfzJ7g",
        "colab_type": "code",
        "colab": {}
      },
      "source": [
        "from sklearn.linear_model import LogisticRegression\n",
        "classifier = LogisticRegression(random_state=0)\n",
        "classifier.fit(x_train, y_train)"
      ],
      "execution_count": 0,
      "outputs": []
    },
    {
      "cell_type": "code",
      "metadata": {
        "id": "p_Tfpo5CzR4y",
        "colab_type": "code",
        "colab": {}
      },
      "source": [
        "y_pred = classifier.predict(x_test)\n",
        "print('Accuracy of logistic regression classifier on test set: {:.2f}'.format(classifier.score(x_test, y_test)))"
      ],
      "execution_count": 0,
      "outputs": []
    },
    {
      "cell_type": "markdown",
      "metadata": {
        "id": "Ah4RJaB2zZt9",
        "colab_type": "text"
      },
      "source": [
        "Create the confusion matrix\n",
        "\n",
        "What is this telling us? It is telling us what our Logistis Regression classifier predicted (on the test set). So, taking one example of the box that says 13. This is saying our model predicted 13 test set records were class 0 and these 13 records were classified correctly (note the test set has an actual output or class value for each record). We compare what we predicted against each actual output value on the test set).\n",
        "\n",
        "Look at the box marked 1. This is telling us that the actual class the flower belonged to was 1 but we predicted that the test set record belonged to class 2."
      ]
    },
    {
      "cell_type": "code",
      "metadata": {
        "id": "b3NvQtHSzatl",
        "colab_type": "code",
        "colab": {}
      },
      "source": [
        "from sklearn.metrics import confusion_matrix\n",
        "import matplotlib.pyplot as plt\n",
        "import seaborn as sns\n",
        "%matplotlib inline\n",
        "cnf_matrix = confusion_matrix(y_test, y_pred)\n",
        "class_names=[0,1,2] # name  of classes\n",
        "fig, ax = plt.subplots()\n",
        "tick_marks = np.arange(len(class_names))\n",
        "plt.xticks(tick_marks, class_names)\n",
        "plt.yticks(tick_marks, class_names)\n",
        "# create heatmap\n",
        "sns.heatmap(pd.DataFrame(cnf_matrix), annot=True, cmap=\"YlGnBu\" ,fmt='g')\n",
        "ax.xaxis.set_label_position(\"top\")\n",
        "plt.tight_layout()\n",
        "plt.title('Confusion matrix', y=1.1)\n",
        "plt.ylabel('Actual label')\n",
        "plt.xlabel('Predicted label')"
      ],
      "execution_count": 0,
      "outputs": []
    },
    {
      "cell_type": "code",
      "metadata": {
        "id": "6YK16_0iCeKN",
        "colab_type": "code",
        "colab": {}
      },
      "source": [
        "from sklearn.metrics import classification_report\n",
        "print(classification_report(y_test, y_pred,target_names=['Iris-setosa', 'Iris-versicolor', 'Iris-virginica']))"
      ],
      "execution_count": 0,
      "outputs": []
    },
    {
      "cell_type": "markdown",
      "metadata": {
        "id": "nz4xChLgGyLK",
        "colab_type": "text"
      },
      "source": [
        "[link text](https://muthu.co/understanding-the-classification-report-in-sklearn/)   ...<<<---understanding classification report"
      ]
    }
  ]
}