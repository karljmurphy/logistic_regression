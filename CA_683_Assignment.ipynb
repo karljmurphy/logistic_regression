{
  "nbformat": 4,
  "nbformat_minor": 0,
  "metadata": {
    "colab": {
      "name": "CA_683_Assignment.ipynb",
      "provenance": [],
      "authorship_tag": "ABX9TyOiVa7o4JSdCMitcetexu3P",
      "include_colab_link": true
    },
    "kernelspec": {
      "name": "python3",
      "display_name": "Python 3"
    },
    "accelerator": "GPU"
  },
  "cells": [
    {
      "cell_type": "markdown",
      "metadata": {
        "id": "view-in-github",
        "colab_type": "text"
      },
      "source": [
        "<a href=\"https://colab.research.google.com/github/karljmurphy/logistic_regression/blob/master/CA_683_Assignment.ipynb\" target=\"_parent\"><img src=\"https://colab.research.google.com/assets/colab-badge.svg\" alt=\"Open In Colab\"/></a>"
      ]
    },
    {
      "cell_type": "markdown",
      "metadata": {
        "id": "SddcHdLQUs8w",
        "colab_type": "text"
      },
      "source": [
        "#Research question - Given that a flight has been delayed for an airline, can we predict was the flight delay due to the fault of the airline?"
      ]
    },
    {
      "cell_type": "markdown",
      "metadata": {
        "id": "v91g27MHUE3g",
        "colab_type": "text"
      },
      "source": [
        "#Introduction\n",
        "\n",
        "The Federal Aviation Administration (FAA) estimates that flight delays cost airlines in the region of USD22 billion annually [1]. The US Department of Transportation strictly regulates the airline industry and will administer fines of nearly USD30,000 on an airline where a plane is delayed and left sitting on the runway for over 3 hours [2]. In addition, passengers may be entitled to compensation from airlines where flights are delayed. \n",
        "\n",
        "The monetary consequences of flight delays do not cover the entire set of costs either. Non-monetary costs, while difficult to estimate, would need to account for stress suffered by passengers, loss of time and loss of productivity where business travellers are delayed at airports.\n",
        "\n",
        "**(Please note, that I have not uploaded the data-set to GitHub given the size of the data-set. I have included a link [8] in the reference section at the end of the colab where the data-set can be found)**\n"
      ]
    },
    {
      "cell_type": "markdown",
      "metadata": {
        "id": "4-wntP8aaISD",
        "colab_type": "text"
      },
      "source": [
        "#Literature review\n",
        "\n",
        "Review on Machine Learning Techniques:\n",
        "* Manna, et al. [4] proposed a Machine Learning Model using Gradient Boosting Decision Tree Classifier for predicting flight arrival delay using ARRIVAL_DELAY as the target variable. This analysis included instances of delays due to factors outside the control of the airline like weather.\n",
        "* Gui, et al. [5] used Random Forest and LSTM architectures in an attempt to predict flight delays. In their paper, they highlight that factors like weather were used to predict flight delays\n",
        "* Chakrabarty [6] used two years of flight data for one airline - American Airlines. The author used a Gradient Boosting classifier. Notably, the researcher used the ARRIVAL_DELAY information as the target variable and categorized flights under 15 minutes as \"on-time\" and everything else was categorized as \"delayed\". \n",
        "* Thiagarajan, et al. [12] adopted a Gradient Boosting classifier to conduct a classification approach and they used an Extra-Trees Regressor to predict the the delay times. The authors made extensive use of weather features in their dataset.\n",
        "* Choi, et al. [9] proposed using a sampling technique called \"costing\" along with supervised learning on flight and weather data.\n",
        "* Kim, et al. [10] utilized deep learning techniques in the form of RNNs to find patterns in day to day data of a single airport. Weather features were present in the feature set.\n",
        "* Meenakshisundaram, et al. [11] used Logistic Regression and Decision Tree classifiers on a data-set that included non-flight attributes like the age of the aircraft (to capture maintence led delays) and weather data.\n",
        "* Nigam, et al. [13] adopted a Logistic Regression approach to model flight data along with non-flight data \"such as temperature, humidity, precipitation, dew point\" to predict delays.\n"
      ]
    },
    {
      "cell_type": "markdown",
      "metadata": {
        "id": "jcDazAgraEVS",
        "colab_type": "text"
      },
      "source": [
        "#Problem and motivation\n",
        "As outlined in the introduction, monetary and non-monetary costs can accrue to both airlines and passengers. Therefore, the motivation is to find patterns in the data that would help us to predict where delays are likely to occur in order to minimize those costs.\n",
        "\n",
        "The Bureau of Transportation Statistics (BTS) publishes flight delay data. The dataset that is used to conduct this research came from BTS via Kaggle [8].\n",
        "\n",
        "A flight is considered to be \"delayed\" if it arrives more than 15 minutes later than the scheduled time shown in the carriers' Computerized Reservations Systems (CRS) [3]. Therefore, any flight that arrives under this 15 minute threshold is considered to be \"on-time\".\n",
        "\n",
        "Airlines are mandated, by the BTS, to record explanatory information where a flight is delayed (in excess of the 15 minute threshold). There are five broad categories used by the BTS to capture information. The following information was taken from the BTS website [3]: \n",
        "\n",
        "**AIRLINE_DELAY:** The cause of the cancellation or delay was due to circumstances within the airline's control (e.g. maintenance or crew problems, aircraft cleaning, baggage loading, fueling, etc.).\n",
        "\n",
        "**Extreme Weather**: Significant meteorological conditions (actual or forecasted) that, in the judgment of the carrier, delays or prevents the operation of a flight such as tornado, blizzard or hurricane.\n",
        "\n",
        "**National Aviation System (NAS)**: Delays and cancellations attributable to the national aviation system that refer to a broad set of conditions, such as non-extreme weather conditions, airport operations, heavy traffic volume, and air traffic control.\n",
        "\n",
        "**Late-arriving aircraft**: A previous flight with same aircraft arrived late, causing the present flight to depart late.\n",
        "\n",
        "**Security**: Delays or cancellations caused by evacuation of a terminal or concourse, re-boarding of aircraft because of security breach, inoperative screening equipment and/or long lines in excess of 29 minutes at screening areas.\n",
        "\n",
        "From a quick inspection of the broad categories above, we can see that AIRLINE_DELAY **(not to be confused with ARRIVAL_DELAY)** is the only category of delays that airlines have some control over. The other categories like weather, security and aviation system are beyond the control of the airlines. Late-arriving aircraft is an area that airlines potentially can control but these delays are also susceptible to weather and security impacts.\n",
        "\n",
        "Therefore, we are interested in the following. Given a set of delayed flights, can we predict was it due to the fault of the airline or not (in other words focus on AIRLINE_DELAY only which is a sub-component of total ARRIVAL_DELAY). \n",
        "\n",
        "Concretely, this means that will take a subset of the dataset **where the ARRIVAL_DELAY is greater than 15 minutes**. On this subset, we will classify the observations as either late due to the airline or late but not due to the fault of the airline.\n",
        "\n",
        "Initially, consideration was given to using the DEPARTURE_DELAY or ARRIVAL_DELAY information to classify the observations. We could simply classify flights as either \"delayed\" or \"on-time\" by looking at ARRIVAL_DELAY values only. There are two reasons why this approach was avoided. \n",
        "\n",
        "\n",
        "1.   As noted above, the airline is only able to control certain factors like baggage handling. In this paper we are interested in exploring patterns around those factors and not things like weather.\n",
        "2.   Using ARRIVAL_DELAY as a target variable in isolation might be problematic. Some commentators [7] have noted how airlines can \"pad\" schedules so that flights that depart later than schedule can arrive on time. This would suggest that using DEPARTURE_DELAY as a target variable may have more \"integrity\" than using ARRIVAL_DELAY. However, both variables are still polluted to a large extent by factors like security, weather and airport operations that are out of the control of the airline and which may be highly impacted by seasonality.\n",
        "\n",
        "\n",
        "\n",
        "\n",
        "\n",
        "\n",
        "\n"
      ]
    },
    {
      "cell_type": "markdown",
      "metadata": {
        "id": "5nFhJNu-aQK-",
        "colab_type": "text"
      },
      "source": [
        "#Structure of paper\n",
        "\n",
        "This research is broken into a number of key sections that will closely follow a CRISP-DM analysis. \n",
        "\n",
        "In Section A, we will conduct a few preprocessing steps to minimize the size of the data-set. Concretely, we pair the observations back to hone in on one airline and the most frequently visited origin and destination airports.\n",
        "\n",
        "Section B will take a look at some descriptive statistics about the data-set.\n",
        "\n",
        "Section C will explore the data-set for patterns.\n",
        "\n",
        "In Section D, we will conduct data preparation. Essentially, we will remove any unnecessary features. We will encode some categorical features. We will look at the target variable and conduct some necessary rebalancing.\n",
        "\n",
        "In Section E, we will explore a few different models and try to classify delayed flights as:\n",
        "\n",
        "* Delayed due to the fault of the airline\n",
        "* Delayed not due to the fault of the airline\n",
        "\n",
        "In Section F, we will use some tools to evaluate the models that we chose under the preceding section.\n",
        "\n"
      ]
    },
    {
      "cell_type": "markdown",
      "metadata": {
        "id": "ev9ZdRwXaMpc",
        "colab_type": "text"
      },
      "source": [
        ""
      ]
    },
    {
      "cell_type": "code",
      "metadata": {
        "id": "V6vIEfnAzNgH",
        "colab_type": "code",
        "outputId": "4b83b54f-e6a3-4629-d338-88c11e0bf03e",
        "colab": {
          "base_uri": "https://localhost:8080/",
          "height": 90
        }
      },
      "source": [
        "import numpy as np\n",
        "import pandas\n",
        "from sklearn import model_selection\n",
        "from sklearn.linear_model import LogisticRegression\n",
        "from sklearn.metrics import confusion_matrix\n",
        "import matplotlib.pyplot as plt\n",
        "import plotly.express as px\n",
        "import pandas as pd\n",
        "import seaborn as sns\n",
        "from statsmodels.stats.outliers_influence import variance_inflation_factor\n",
        "from patsy import dmatrices\n",
        "from statsmodels.api import add_constant\n",
        "import pandas as pd\n",
        "from sklearn.metrics import confusion_matrix\n",
        "import matplotlib.pyplot as plt\n",
        "import seaborn as sns\n",
        "from sklearn.metrics import classification_report\n",
        "from sklearn.metrics import roc_auc_score\n",
        "%matplotlib inline\n"
      ],
      "execution_count": 0,
      "outputs": [
        {
          "output_type": "stream",
          "text": [
            "/usr/local/lib/python3.6/dist-packages/statsmodels/tools/_testing.py:19: FutureWarning:\n",
            "\n",
            "pandas.util.testing is deprecated. Use the functions in the public API at pandas.testing instead.\n",
            "\n"
          ],
          "name": "stderr"
        }
      ]
    },
    {
      "cell_type": "code",
      "metadata": {
        "id": "b4JMv7WI0RIK",
        "colab_type": "code",
        "outputId": "bf3fbea4-106b-4891-8ac4-15ce481dc53a",
        "colab": {
          "resources": {
            "http://localhost:8080/nbextensions/google.colab/files.js": {
              "data": "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",
              "ok": true,
              "headers": [
                [
                  "content-type",
                  "application/javascript"
                ]
              ],
              "status": 200,
              "status_text": ""
            }
          },
          "base_uri": "https://localhost:8080/",
          "height": 75
        }
      },
      "source": [
        "from google.colab import files\n",
        "uploaded = files.upload()"
      ],
      "execution_count": 0,
      "outputs": [
        {
          "output_type": "display_data",
          "data": {
            "text/html": [
              "\n",
              "     <input type=\"file\" id=\"files-72a92e1a-1499-4cbd-8d86-86847db576b9\" name=\"files[]\" multiple disabled />\n",
              "     <output id=\"result-72a92e1a-1499-4cbd-8d86-86847db576b9\">\n",
              "      Upload widget is only available when the cell has been executed in the\n",
              "      current browser session. Please rerun this cell to enable.\n",
              "      </output>\n",
              "      <script src=\"/nbextensions/google.colab/files.js\"></script> "
            ],
            "text/plain": [
              "<IPython.core.display.HTML object>"
            ]
          },
          "metadata": {
            "tags": []
          }
        },
        {
          "output_type": "stream",
          "text": [
            "Saving flights.csv to flights.csv\n"
          ],
          "name": "stdout"
        }
      ]
    },
    {
      "cell_type": "code",
      "metadata": {
        "id": "uN_n_FXayduX",
        "colab_type": "code",
        "outputId": "0f304876-a1e7-4d5f-b179-c800bc47265a",
        "colab": {
          "base_uri": "https://localhost:8080/",
          "height": 90
        }
      },
      "source": [
        "df = pd.read_csv(\"flights.csv\")"
      ],
      "execution_count": 0,
      "outputs": [
        {
          "output_type": "stream",
          "text": [
            "/usr/local/lib/python3.6/dist-packages/IPython/core/interactiveshell.py:2718: DtypeWarning:\n",
            "\n",
            "Columns (7,8) have mixed types.Specify dtype option on import or set low_memory=False.\n",
            "\n"
          ],
          "name": "stderr"
        }
      ]
    },
    {
      "cell_type": "code",
      "metadata": {
        "id": "sMhLPYG4DiTj",
        "colab_type": "code",
        "outputId": "e86612e6-4a3d-49a2-bbc2-f13cf3aca37d",
        "colab": {
          "base_uri": "https://localhost:8080/",
          "height": 35
        }
      },
      "source": [
        "df.shape"
      ],
      "execution_count": 0,
      "outputs": [
        {
          "output_type": "execute_result",
          "data": {
            "text/plain": [
              "(5819079, 31)"
            ]
          },
          "metadata": {
            "tags": []
          },
          "execution_count": 53
        }
      ]
    },
    {
      "cell_type": "markdown",
      "metadata": {
        "id": "bC97PEJ4nV5i",
        "colab_type": "text"
      },
      "source": [
        "#Section A - Data Preprocessing"
      ]
    },
    {
      "cell_type": "markdown",
      "metadata": {
        "id": "kIJ4g5I7lvq4",
        "colab_type": "text"
      },
      "source": [
        "Given that the dataset contains over 5 million observations, we will conduct a few preprocessing steps to minimize the dataset to make it easier to work with in terms of computatational efficiency by:\n",
        "\n",
        "1. Focus on the observations of one AIRLINE only - which will be SouthWest Airlines (WN)\n",
        "2. Focus on the 10 largest ORIGIN_AIRPORTS by number of observations in the dataset\n",
        "3. Focus on the 10 largest DESTINATION_AIRPORTS by number of observations in the dataset"
      ]
    },
    {
      "cell_type": "code",
      "metadata": {
        "id": "5H9YQTRNzwbe",
        "colab_type": "code",
        "colab": {}
      },
      "source": [
        "df = df[(df.AIRLINE == 'WN')]"
      ],
      "execution_count": 0,
      "outputs": []
    },
    {
      "cell_type": "code",
      "metadata": {
        "id": "XkGZy7jTVqia",
        "colab_type": "code",
        "colab": {}
      },
      "source": [
        "df = df[(df.ORIGIN_AIRPORT == 'MDW') | (df.ORIGIN_AIRPORT == 'LAS') | (df.ORIGIN_AIRPORT == 'BWI') | (df.ORIGIN_AIRPORT == 'DEN') |(df.ORIGIN_AIRPORT == 'PHX') |\n",
        "       (df.ORIGIN_AIRPORT == 'DAL') | (df.ORIGIN_AIRPORT == 'HOU') | (df.ORIGIN_AIRPORT == 'ATL') | (df.ORIGIN_AIRPORT == 'MCO') |(df.ORIGIN_AIRPORT == 'LAX') ] "
      ],
      "execution_count": 0,
      "outputs": []
    },
    {
      "cell_type": "code",
      "metadata": {
        "id": "dIhBSwwJ_LdU",
        "colab_type": "code",
        "colab": {}
      },
      "source": [
        "df = df[(df.DESTINATION_AIRPORT == 'MDW') | (df.DESTINATION_AIRPORT == 'LAS') | (df.DESTINATION_AIRPORT == 'BWI') | (df.DESTINATION_AIRPORT == 'DEN') |(df.DESTINATION_AIRPORT == 'PHX') |\n",
        "        (df.DESTINATION_AIRPORT == 'DAL') | (df.DESTINATION_AIRPORT == 'HOU') | (df.DESTINATION_AIRPORT == 'ATL') | (df.DESTINATION_AIRPORT == 'STL') |(df.DESTINATION_AIRPORT == 'LAX') ] "
      ],
      "execution_count": 0,
      "outputs": []
    },
    {
      "cell_type": "markdown",
      "metadata": {
        "id": "I9kDtWGyjiFe",
        "colab_type": "text"
      },
      "source": [
        "#Section B - Data Understanding\n"
      ]
    },
    {
      "cell_type": "markdown",
      "metadata": {
        "id": "FU1shKO5kmPV",
        "colab_type": "text"
      },
      "source": [
        "## 1.0 Describe Data"
      ]
    },
    {
      "cell_type": "markdown",
      "metadata": {
        "id": "MJfNE-r8Hpw_",
        "colab_type": "text"
      },
      "source": [
        "1.1 - Shape of the dataset"
      ]
    },
    {
      "cell_type": "code",
      "metadata": {
        "id": "ZvEmOu4Lfd7C",
        "colab_type": "code",
        "outputId": "94a411e4-b94e-426e-d943-21c0ff1f4b35",
        "colab": {
          "base_uri": "https://localhost:8080/",
          "height": 35
        }
      },
      "source": [
        "df.shape"
      ],
      "execution_count": 0,
      "outputs": [
        {
          "output_type": "execute_result",
          "data": {
            "text/plain": [
              "(163749, 31)"
            ]
          },
          "metadata": {
            "tags": []
          },
          "execution_count": 57
        }
      ]
    },
    {
      "cell_type": "markdown",
      "metadata": {
        "id": "vKBEtQOhIAEY",
        "colab_type": "text"
      },
      "source": [
        "1.2 - First few records of dataset"
      ]
    },
    {
      "cell_type": "code",
      "metadata": {
        "id": "0Za1d8u3gdyj",
        "colab_type": "code",
        "outputId": "d20a9bf7-fac9-4b07-c258-584f2f35ed49",
        "colab": {
          "base_uri": "https://localhost:8080/",
          "height": 218
        }
      },
      "source": [
        "df.head()"
      ],
      "execution_count": 0,
      "outputs": [
        {
          "output_type": "execute_result",
          "data": {
            "text/html": [
              "<div>\n",
              "<style scoped>\n",
              "    .dataframe tbody tr th:only-of-type {\n",
              "        vertical-align: middle;\n",
              "    }\n",
              "\n",
              "    .dataframe tbody tr th {\n",
              "        vertical-align: top;\n",
              "    }\n",
              "\n",
              "    .dataframe thead th {\n",
              "        text-align: right;\n",
              "    }\n",
              "</style>\n",
              "<table border=\"1\" class=\"dataframe\">\n",
              "  <thead>\n",
              "    <tr style=\"text-align: right;\">\n",
              "      <th></th>\n",
              "      <th>YEAR</th>\n",
              "      <th>MONTH</th>\n",
              "      <th>DAY</th>\n",
              "      <th>DAY_OF_WEEK</th>\n",
              "      <th>AIRLINE</th>\n",
              "      <th>FLIGHT_NUMBER</th>\n",
              "      <th>TAIL_NUMBER</th>\n",
              "      <th>ORIGIN_AIRPORT</th>\n",
              "      <th>DESTINATION_AIRPORT</th>\n",
              "      <th>SCHEDULED_DEPARTURE</th>\n",
              "      <th>DEPARTURE_TIME</th>\n",
              "      <th>DEPARTURE_DELAY</th>\n",
              "      <th>TAXI_OUT</th>\n",
              "      <th>WHEELS_OFF</th>\n",
              "      <th>SCHEDULED_TIME</th>\n",
              "      <th>ELAPSED_TIME</th>\n",
              "      <th>AIR_TIME</th>\n",
              "      <th>DISTANCE</th>\n",
              "      <th>WHEELS_ON</th>\n",
              "      <th>TAXI_IN</th>\n",
              "      <th>SCHEDULED_ARRIVAL</th>\n",
              "      <th>ARRIVAL_TIME</th>\n",
              "      <th>ARRIVAL_DELAY</th>\n",
              "      <th>DIVERTED</th>\n",
              "      <th>CANCELLED</th>\n",
              "      <th>CANCELLATION_REASON</th>\n",
              "      <th>AIR_SYSTEM_DELAY</th>\n",
              "      <th>SECURITY_DELAY</th>\n",
              "      <th>AIRLINE_DELAY</th>\n",
              "      <th>LATE_AIRCRAFT_DELAY</th>\n",
              "      <th>WEATHER_DELAY</th>\n",
              "    </tr>\n",
              "  </thead>\n",
              "  <tbody>\n",
              "    <tr>\n",
              "      <th>185</th>\n",
              "      <td>2015</td>\n",
              "      <td>1</td>\n",
              "      <td>1</td>\n",
              "      <td>4</td>\n",
              "      <td>WN</td>\n",
              "      <td>4822</td>\n",
              "      <td>N293WN</td>\n",
              "      <td>LAS</td>\n",
              "      <td>BWI</td>\n",
              "      <td>600</td>\n",
              "      <td>602.0</td>\n",
              "      <td>2.0</td>\n",
              "      <td>10.0</td>\n",
              "      <td>612.0</td>\n",
              "      <td>270.0</td>\n",
              "      <td>243.0</td>\n",
              "      <td>230.0</td>\n",
              "      <td>2106</td>\n",
              "      <td>1302.0</td>\n",
              "      <td>3.0</td>\n",
              "      <td>1330</td>\n",
              "      <td>1305.0</td>\n",
              "      <td>-25.0</td>\n",
              "      <td>0</td>\n",
              "      <td>0</td>\n",
              "      <td>NaN</td>\n",
              "      <td>NaN</td>\n",
              "      <td>NaN</td>\n",
              "      <td>NaN</td>\n",
              "      <td>NaN</td>\n",
              "      <td>NaN</td>\n",
              "    </tr>\n",
              "    <tr>\n",
              "      <th>429</th>\n",
              "      <td>2015</td>\n",
              "      <td>1</td>\n",
              "      <td>1</td>\n",
              "      <td>4</td>\n",
              "      <td>WN</td>\n",
              "      <td>828</td>\n",
              "      <td>N8303R</td>\n",
              "      <td>PHX</td>\n",
              "      <td>BWI</td>\n",
              "      <td>610</td>\n",
              "      <td>610.0</td>\n",
              "      <td>0.0</td>\n",
              "      <td>12.0</td>\n",
              "      <td>622.0</td>\n",
              "      <td>250.0</td>\n",
              "      <td>226.0</td>\n",
              "      <td>210.0</td>\n",
              "      <td>1999</td>\n",
              "      <td>1152.0</td>\n",
              "      <td>4.0</td>\n",
              "      <td>1220</td>\n",
              "      <td>1156.0</td>\n",
              "      <td>-24.0</td>\n",
              "      <td>0</td>\n",
              "      <td>0</td>\n",
              "      <td>NaN</td>\n",
              "      <td>NaN</td>\n",
              "      <td>NaN</td>\n",
              "      <td>NaN</td>\n",
              "      <td>NaN</td>\n",
              "      <td>NaN</td>\n",
              "    </tr>\n",
              "    <tr>\n",
              "      <th>466</th>\n",
              "      <td>2015</td>\n",
              "      <td>1</td>\n",
              "      <td>1</td>\n",
              "      <td>4</td>\n",
              "      <td>WN</td>\n",
              "      <td>2351</td>\n",
              "      <td>N7728D</td>\n",
              "      <td>HOU</td>\n",
              "      <td>ATL</td>\n",
              "      <td>615</td>\n",
              "      <td>612.0</td>\n",
              "      <td>-3.0</td>\n",
              "      <td>7.0</td>\n",
              "      <td>619.0</td>\n",
              "      <td>110.0</td>\n",
              "      <td>106.0</td>\n",
              "      <td>91.0</td>\n",
              "      <td>696</td>\n",
              "      <td>850.0</td>\n",
              "      <td>8.0</td>\n",
              "      <td>905</td>\n",
              "      <td>858.0</td>\n",
              "      <td>-7.0</td>\n",
              "      <td>0</td>\n",
              "      <td>0</td>\n",
              "      <td>NaN</td>\n",
              "      <td>NaN</td>\n",
              "      <td>NaN</td>\n",
              "      <td>NaN</td>\n",
              "      <td>NaN</td>\n",
              "      <td>NaN</td>\n",
              "    </tr>\n",
              "    <tr>\n",
              "      <th>467</th>\n",
              "      <td>2015</td>\n",
              "      <td>1</td>\n",
              "      <td>1</td>\n",
              "      <td>4</td>\n",
              "      <td>WN</td>\n",
              "      <td>137</td>\n",
              "      <td>N621SW</td>\n",
              "      <td>HOU</td>\n",
              "      <td>PHX</td>\n",
              "      <td>615</td>\n",
              "      <td>613.0</td>\n",
              "      <td>-2.0</td>\n",
              "      <td>9.0</td>\n",
              "      <td>622.0</td>\n",
              "      <td>175.0</td>\n",
              "      <td>173.0</td>\n",
              "      <td>160.0</td>\n",
              "      <td>1020</td>\n",
              "      <td>802.0</td>\n",
              "      <td>4.0</td>\n",
              "      <td>810</td>\n",
              "      <td>806.0</td>\n",
              "      <td>-4.0</td>\n",
              "      <td>0</td>\n",
              "      <td>0</td>\n",
              "      <td>NaN</td>\n",
              "      <td>NaN</td>\n",
              "      <td>NaN</td>\n",
              "      <td>NaN</td>\n",
              "      <td>NaN</td>\n",
              "      <td>NaN</td>\n",
              "    </tr>\n",
              "    <tr>\n",
              "      <th>515</th>\n",
              "      <td>2015</td>\n",
              "      <td>1</td>\n",
              "      <td>1</td>\n",
              "      <td>4</td>\n",
              "      <td>WN</td>\n",
              "      <td>799</td>\n",
              "      <td>N7736A</td>\n",
              "      <td>LAS</td>\n",
              "      <td>HOU</td>\n",
              "      <td>620</td>\n",
              "      <td>618.0</td>\n",
              "      <td>-2.0</td>\n",
              "      <td>11.0</td>\n",
              "      <td>629.0</td>\n",
              "      <td>170.0</td>\n",
              "      <td>170.0</td>\n",
              "      <td>155.0</td>\n",
              "      <td>1235</td>\n",
              "      <td>1104.0</td>\n",
              "      <td>4.0</td>\n",
              "      <td>1110</td>\n",
              "      <td>1108.0</td>\n",
              "      <td>-2.0</td>\n",
              "      <td>0</td>\n",
              "      <td>0</td>\n",
              "      <td>NaN</td>\n",
              "      <td>NaN</td>\n",
              "      <td>NaN</td>\n",
              "      <td>NaN</td>\n",
              "      <td>NaN</td>\n",
              "      <td>NaN</td>\n",
              "    </tr>\n",
              "  </tbody>\n",
              "</table>\n",
              "</div>"
            ],
            "text/plain": [
              "     YEAR  MONTH  DAY  ...  AIRLINE_DELAY LATE_AIRCRAFT_DELAY  WEATHER_DELAY\n",
              "185  2015      1    1  ...            NaN                 NaN            NaN\n",
              "429  2015      1    1  ...            NaN                 NaN            NaN\n",
              "466  2015      1    1  ...            NaN                 NaN            NaN\n",
              "467  2015      1    1  ...            NaN                 NaN            NaN\n",
              "515  2015      1    1  ...            NaN                 NaN            NaN\n",
              "\n",
              "[5 rows x 31 columns]"
            ]
          },
          "metadata": {
            "tags": []
          },
          "execution_count": 58
        }
      ]
    },
    {
      "cell_type": "markdown",
      "metadata": {
        "id": "FsiMRdEjIKf0",
        "colab_type": "text"
      },
      "source": [
        "1.3 - List numerical columns in the dataset"
      ]
    },
    {
      "cell_type": "code",
      "metadata": {
        "id": "Q9on5ZkTjri8",
        "colab_type": "code",
        "outputId": "41f5636e-189e-4060-90da-65b95cfa4428",
        "colab": {
          "base_uri": "https://localhost:8080/",
          "height": 163
        }
      },
      "source": [
        "numerical_columns = df._get_numeric_data().columns\n",
        "print(numerical_columns)"
      ],
      "execution_count": 0,
      "outputs": [
        {
          "output_type": "stream",
          "text": [
            "Index(['YEAR', 'MONTH', 'DAY', 'DAY_OF_WEEK', 'FLIGHT_NUMBER',\n",
            "       'SCHEDULED_DEPARTURE', 'DEPARTURE_TIME', 'DEPARTURE_DELAY', 'TAXI_OUT',\n",
            "       'WHEELS_OFF', 'SCHEDULED_TIME', 'ELAPSED_TIME', 'AIR_TIME', 'DISTANCE',\n",
            "       'WHEELS_ON', 'TAXI_IN', 'SCHEDULED_ARRIVAL', 'ARRIVAL_TIME',\n",
            "       'ARRIVAL_DELAY', 'DIVERTED', 'CANCELLED', 'AIR_SYSTEM_DELAY',\n",
            "       'SECURITY_DELAY', 'AIRLINE_DELAY', 'LATE_AIRCRAFT_DELAY',\n",
            "       'WEATHER_DELAY'],\n",
            "      dtype='object')\n"
          ],
          "name": "stdout"
        }
      ]
    },
    {
      "cell_type": "markdown",
      "metadata": {
        "id": "UPdp1-JaISfs",
        "colab_type": "text"
      },
      "source": [
        "1.4 - List categorical columns in the dataset"
      ]
    },
    {
      "cell_type": "code",
      "metadata": {
        "id": "JoUi3gso0Ucq",
        "colab_type": "code",
        "outputId": "de4a5217-7070-4c4e-d716-2d4bd36d232d",
        "colab": {
          "base_uri": "https://localhost:8080/",
          "height": 35
        }
      },
      "source": [
        "def get_categorical_features():\n",
        "     return list(set(df.columns) - set(df._get_numeric_data().columns))\n",
        "print(get_categorical_features())"
      ],
      "execution_count": 0,
      "outputs": [
        {
          "output_type": "stream",
          "text": [
            "['AIRLINE', 'TAIL_NUMBER', 'DESTINATION_AIRPORT', 'CANCELLATION_REASON', 'ORIGIN_AIRPORT']\n"
          ],
          "name": "stdout"
        }
      ]
    },
    {
      "cell_type": "markdown",
      "metadata": {
        "id": "_ZsviPMSAhXJ",
        "colab_type": "text"
      },
      "source": [
        "1.5 Data quality and missing values\n",
        "\n",
        "There are a huge proportion of missing values across the dataset as highlighted below. All of these missing values are due to the fact that flight delay information is only recorded for flights that are delayed for more than 15 minutes.\n",
        "\n",
        "\"A flight delay is when an airline flight takes off and/or lands later than its scheduled time. The Federal Aviation Administration (FAA) considers a flight to be delayed when it is 15 minutes later than its scheduled time.\" (https://en.wikipedia.org/wiki/Flight_cancellation_and_delay) \n",
        "\n",
        "\n",
        "\n"
      ]
    },
    {
      "cell_type": "code",
      "metadata": {
        "id": "qt3MV43o0NCM",
        "colab_type": "code",
        "outputId": "faa99cd1-56cf-42c6-9655-729b2c258c8a",
        "colab": {
          "base_uri": "https://localhost:8080/",
          "height": 217
        }
      },
      "source": [
        "df.isnull().sum().nlargest(10)\n"
      ],
      "execution_count": 0,
      "outputs": [
        {
          "output_type": "execute_result",
          "data": {
            "text/plain": [
              "CANCELLATION_REASON    161459\n",
              "AIR_SYSTEM_DELAY       129196\n",
              "SECURITY_DELAY         129196\n",
              "AIRLINE_DELAY          129196\n",
              "LATE_AIRCRAFT_DELAY    129196\n",
              "WEATHER_DELAY          129196\n",
              "ELAPSED_TIME             2892\n",
              "AIR_TIME                 2892\n",
              "ARRIVAL_DELAY            2892\n",
              "WHEELS_ON                2401\n",
              "dtype: int64"
            ]
          },
          "metadata": {
            "tags": []
          },
          "execution_count": 61
        }
      ]
    },
    {
      "cell_type": "markdown",
      "metadata": {
        "id": "l-F0sXQxAx3U",
        "colab_type": "text"
      },
      "source": [
        "1.6 Breakdown of the number of flights per day in the dataset\n",
        " -  SAT and SUN show lower counts of flights for the airline"
      ]
    },
    {
      "cell_type": "code",
      "metadata": {
        "id": "VNYvG36fCutv",
        "colab_type": "code",
        "outputId": "449445ed-53a0-4290-c74d-9490486b4d78",
        "colab": {
          "base_uri": "https://localhost:8080/",
          "height": 298
        }
      },
      "source": [
        "sns.countplot(x='DAY_OF_WEEK', data=df, order = df['DAY_OF_WEEK'].value_counts().index, palette='Blues')\n",
        "plt.show()\n",
        "plt.savefig('count-plot')"
      ],
      "execution_count": 0,
      "outputs": [
        {
          "output_type": "display_data",
          "data": {
            "image/png": "[encoded data removed]",
            "text/plain": [
              "<Figure size 432x288 with 1 Axes>"
            ]
          },
          "metadata": {
            "tags": [],
            "needs_background": "light"
          }
        },
        {
          "output_type": "display_data",
          "data": {
            "text/plain": [
              "<Figure size 432x288 with 0 Axes>"
            ]
          },
          "metadata": {
            "tags": []
          }
        }
      ]
    },
    {
      "cell_type": "markdown",
      "metadata": {
        "id": "oBBMf6OGA81z",
        "colab_type": "text"
      },
      "source": [
        "1.7 Breakdown of numbers of flights for morning, afternoon and evening departures\n",
        "Classify departures as:\n",
        "0 - Morning\n",
        "1 = Afternoon\n",
        "2 - Evening\n",
        "\n",
        "Observation: The number of departures is greatest in the morning for this Airline"
      ]
    },
    {
      "cell_type": "code",
      "metadata": {
        "id": "u_Bl68hdDZZm",
        "colab_type": "code",
        "outputId": "ddd126d9-1723-4bd1-f2fc-8dc5fdd737fa",
        "colab": {
          "base_uri": "https://localhost:8080/",
          "height": 298
        }
      },
      "source": [
        "df.loc[df[\"SCHEDULED_DEPARTURE\"] <= 1200, 'SCHEDULED_DEPARTURE'] = 0\n",
        "df.loc[(df[\"SCHEDULED_DEPARTURE\"] > 1200) & (df[\"SCHEDULED_DEPARTURE\"] < 1800), 'SCHEDULED_DEPARTURE'] = 1\n",
        "df.loc[df[\"SCHEDULED_DEPARTURE\"] >= 1800, 'SCHEDULED_DEPARTURE'] = 2\n",
        "\n",
        "sns.countplot(x='SCHEDULED_DEPARTURE', data=df, order = df['SCHEDULED_DEPARTURE'].value_counts().index, palette='Blues')\n",
        "plt.show()\n",
        "plt.savefig('count-plot')\n",
        "\n"
      ],
      "execution_count": 0,
      "outputs": [
        {
          "output_type": "display_data",
          "data": {
            "image/png": "[encoded data removed]",
            "text/plain": [
              "<Figure size 432x288 with 1 Axes>"
            ]
          },
          "metadata": {
            "tags": [],
            "needs_background": "light"
          }
        },
        {
          "output_type": "display_data",
          "data": {
            "text/plain": [
              "<Figure size 432x288 with 0 Axes>"
            ]
          },
          "metadata": {
            "tags": []
          }
        }
      ]
    },
    {
      "cell_type": "markdown",
      "metadata": {
        "id": "JmLjaZ9IBcwH",
        "colab_type": "text"
      },
      "source": [
        "1.8 Breakdown for numbers of flights by distance of the flight: \n",
        "We will classify that data as follows - \n",
        "\n",
        "0.   Short\n",
        "1.   Medium\n",
        "2.   Long haul\n",
        "\n",
        "Observation: the carrier predominantly does short haul and medium haul flights\n",
        "\n"
      ]
    },
    {
      "cell_type": "code",
      "metadata": {
        "id": "jczpPn4OEU3k",
        "colab_type": "code",
        "outputId": "1214c43c-60dc-40a4-90bf-4a2171550b86",
        "colab": {
          "base_uri": "https://localhost:8080/",
          "height": 297
        }
      },
      "source": [
        "df.loc[df[\"DISTANCE\"] <= 800, 'DISTANCE'] = 0\n",
        "df.loc[(df[\"DISTANCE\"] > 800) & (df[\"DISTANCE\"] < 2200), 'DISTANCE'] = 1\n",
        "df.loc[df[\"DISTANCE\"] >= 2200, 'DISTANCE'] = 2\n",
        "sns.countplot(x='DISTANCE', data=df, order = df['DISTANCE'].value_counts().index, palette='Blues')\n",
        "plt.show()\n",
        "plt.savefig('count-plot')"
      ],
      "execution_count": 0,
      "outputs": [
        {
          "output_type": "display_data",
          "data": {
            "image/png": "[encoded data removed]",
            "text/plain": [
              "<Figure size 432x288 with 1 Axes>"
            ]
          },
          "metadata": {
            "tags": [],
            "needs_background": "light"
          }
        },
        {
          "output_type": "display_data",
          "data": {
            "text/plain": [
              "<Figure size 432x288 with 0 Axes>"
            ]
          },
          "metadata": {
            "tags": []
          }
        }
      ]
    },
    {
      "cell_type": "markdown",
      "metadata": {
        "id": "8aYVMkdmFpsl",
        "colab_type": "text"
      },
      "source": [
        "1.9 Cancelled and diverted flights contain no ARRIVAL or DEPARTURE delay information\n",
        "\n",
        "As these observations contain no arrival delay information, we will remove them from the dataset\n",
        "\n"
      ]
    },
    {
      "cell_type": "code",
      "metadata": {
        "id": "buS4rzyL0iSH",
        "colab_type": "code",
        "outputId": "5a422c0f-a959-4b51-f317-cb7e46c8095f",
        "colab": {
          "base_uri": "https://localhost:8080/",
          "height": 35
        }
      },
      "source": [
        "df = df.drop(df[df.CANCELLED == 1].index)\n",
        "df = df.drop(df[df.DIVERTED == 1].index)\n",
        "df.shape"
      ],
      "execution_count": 0,
      "outputs": [
        {
          "output_type": "execute_result",
          "data": {
            "text/plain": [
              "(160857, 31)"
            ]
          },
          "metadata": {
            "tags": []
          },
          "execution_count": 65
        }
      ]
    },
    {
      "cell_type": "markdown",
      "metadata": {
        "id": "1skke-CWQJJi",
        "colab_type": "text"
      },
      "source": [
        "1.10 Drop all rows that have an ARRIVAL_DELAY value of less than 15 minutes. The remaining observations will be for delayed flights (reminder we are only interested in predicting if a delayed flight was due to the fault of the airline or not).\n",
        "\n",
        "Recall from point 1.5 above that the FAA only requires airlines to document reasons for delays that are 15 minutes or above. The reasons fall under the following headings:\n",
        "\n",
        "*   AIR_SYSTEM_DELAY\n",
        "*   SECURITY_DELAY\n",
        "*   AIRLINE_DELAY\n",
        "*   LATE_AIRCRAFT_DELAY\n",
        "*   WEATHER_DELAY\n"
      ]
    },
    {
      "cell_type": "code",
      "metadata": {
        "id": "x1XpDlkAPwLF",
        "colab_type": "code",
        "outputId": "738f9607-a0ec-4b45-bc48-3d07dfcc34e8",
        "colab": {
          "base_uri": "https://localhost:8080/",
          "height": 35
        }
      },
      "source": [
        "df = df.drop(df[df.ARRIVAL_DELAY < 15].index)\n",
        "df.shape"
      ],
      "execution_count": 0,
      "outputs": [
        {
          "output_type": "execute_result",
          "data": {
            "text/plain": [
              "(34553, 31)"
            ]
          },
          "metadata": {
            "tags": []
          },
          "execution_count": 66
        }
      ]
    },
    {
      "cell_type": "markdown",
      "metadata": {
        "id": "ou-ReK54Drjh",
        "colab_type": "text"
      },
      "source": [
        "1.11 Use AIRLINE_DELAY (note this is not the same variable as ARRIVAL_DELAY) variable as the dependent variable\n",
        "\n",
        "\n",
        "*   Classify any flights that are late due to the airline's fault with a value of 1. All other flights will be coded with a zero.\n"
      ]
    },
    {
      "cell_type": "code",
      "metadata": {
        "id": "fWIraV_OxBrz",
        "colab_type": "code",
        "outputId": "53421683-e0d3-4900-b98e-75df69f3023b",
        "colab": {
          "base_uri": "https://localhost:8080/",
          "height": 72
        }
      },
      "source": [
        "# Examine distribution of dependent variable\n",
        "df['OUTPUT'] = (df.AIRLINE_DELAY > 0).astype('int')\n",
        "df.OUTPUT.value_counts()"
      ],
      "execution_count": 0,
      "outputs": [
        {
          "output_type": "execute_result",
          "data": {
            "text/plain": [
              "1    22959\n",
              "0    11594\n",
              "Name: OUTPUT, dtype: int64"
            ]
          },
          "metadata": {
            "tags": []
          },
          "execution_count": 67
        }
      ]
    },
    {
      "cell_type": "markdown",
      "metadata": {
        "id": "bD18Jhf8D6_L",
        "colab_type": "text"
      },
      "source": [
        "1.11 Inspect how balanced the target class variable is\n",
        "\n",
        "We can see that the classes are heavily imbalanced. The graph is telling us that where there is a flight delay - in the majority of cases this is due to the fault of the airline. We will correct this imbalance later when preprocessing the dataset."
      ]
    },
    {
      "cell_type": "code",
      "metadata": {
        "id": "_XQnhrzwuCa-",
        "colab_type": "code",
        "outputId": "42e70668-b929-46e9-9371-8a29a8be04c1",
        "colab": {
          "base_uri": "https://localhost:8080/",
          "height": 297
        }
      },
      "source": [
        "sns.countplot(x='OUTPUT', data=df, palette='Blues')\n",
        "plt.show()\n",
        "plt.savefig('count-plot')"
      ],
      "execution_count": 0,
      "outputs": [
        {
          "output_type": "display_data",
          "data": {
            "image/png": "[encoded data removed]",
            "text/plain": [
              "<Figure size 432x288 with 1 Axes>"
            ]
          },
          "metadata": {
            "tags": [],
            "needs_background": "light"
          }
        },
        {
          "output_type": "display_data",
          "data": {
            "text/plain": [
              "<Figure size 432x288 with 0 Axes>"
            ]
          },
          "metadata": {
            "tags": []
          }
        }
      ]
    },
    {
      "cell_type": "markdown",
      "metadata": {
        "id": "dAwLMykzne5B",
        "colab_type": "text"
      },
      "source": [
        "#Section C - Data exploration - analysis of patterns in the dataset"
      ]
    },
    {
      "cell_type": "markdown",
      "metadata": {
        "id": "biia4A8uLyax",
        "colab_type": "text"
      },
      "source": [
        "2.1 Which origin airports are the worst offenders in terms of AIRLINE_DELAY\n",
        "\n",
        "*   At LAX, nearly 3/4 of the flights delayed are due to the AIRLINE\n",
        "*   At MCO, about 1/2 of the flights delayed are due to the fault of the AIRLINE\n",
        "\n",
        "\n"
      ]
    },
    {
      "cell_type": "code",
      "metadata": {
        "id": "39lntzhU3mP0",
        "colab_type": "code",
        "outputId": "ca372fd0-7d19-4695-a76f-e3f7f13ba188",
        "colab": {
          "base_uri": "https://localhost:8080/",
          "height": 315
        }
      },
      "source": [
        "fig = plt.figure()\n",
        "fig.suptitle('Origin Airports and types of delays', fontsize=13)\n",
        "df1 = df.groupby(['ORIGIN_AIRPORT', 'OUTPUT']).size().unstack()\n",
        "df1.plot(kind='barh', stacked=True).set_xlabel('Number of flights delayed due Airline fault (1) or something else (0)')"
      ],
      "execution_count": 0,
      "outputs": [
        {
          "output_type": "execute_result",
          "data": {
            "text/plain": [
              "Text(0.5, 0, 'Number of flights delayed due Airline fault (1) or something else (0)')"
            ]
          },
          "metadata": {
            "tags": []
          },
          "execution_count": 69
        },
        {
          "output_type": "display_data",
          "data": {
            "text/plain": [
              "<Figure size 432x288 with 0 Axes>"
            ]
          },
          "metadata": {
            "tags": []
          }
        },
        {
          "output_type": "display_data",
          "data": {
            "image/png": "[encoded data removed]",
            "text/plain": [
              "<Figure size 432x288 with 1 Axes>"
            ]
          },
          "metadata": {
            "tags": [],
            "needs_background": "light"
          }
        }
      ]
    },
    {
      "cell_type": "markdown",
      "metadata": {
        "id": "tw9fUk3nML9L",
        "colab_type": "text"
      },
      "source": [
        "2.1 Which Destination Airports are the worst offenders in terms of AIRLINE_DELAY"
      ]
    },
    {
      "cell_type": "code",
      "metadata": {
        "id": "L6qGSN7c6qFT",
        "colab_type": "code",
        "outputId": "be4af8a2-92f7-4230-d058-5c30aace71fe",
        "colab": {
          "base_uri": "https://localhost:8080/",
          "height": 315
        }
      },
      "source": [
        "fig = plt.figure()\n",
        "fig.suptitle('Destination airports and types of delays', fontsize=13)\n",
        "df1 = df.groupby(['DESTINATION_AIRPORT', 'OUTPUT']).size().unstack()\n",
        "df1.plot(kind='barh', stacked=True).set_xlabel('Number of flights delayed due Airline fault (1) or something else (0)')"
      ],
      "execution_count": 0,
      "outputs": [
        {
          "output_type": "execute_result",
          "data": {
            "text/plain": [
              "Text(0.5, 0, 'Number of flights delayed due Airline fault (1) or something else (0)')"
            ]
          },
          "metadata": {
            "tags": []
          },
          "execution_count": 70
        },
        {
          "output_type": "display_data",
          "data": {
            "text/plain": [
              "<Figure size 432x288 with 0 Axes>"
            ]
          },
          "metadata": {
            "tags": []
          }
        },
        {
          "output_type": "display_data",
          "data": {
            "image/png": "[encoded data removed]",
            "text/plain": [
              "<Figure size 432x288 with 1 Axes>"
            ]
          },
          "metadata": {
            "tags": [],
            "needs_background": "light"
          }
        }
      ]
    },
    {
      "cell_type": "markdown",
      "metadata": {
        "id": "pNQ7M-0RgHng",
        "colab_type": "text"
      },
      "source": [
        "2.2 Does the scheduled departure time of the flight reflect any pattern in AIRLINE_DELAY?"
      ]
    },
    {
      "cell_type": "markdown",
      "metadata": {
        "id": "gzwCsUeKgVxF",
        "colab_type": "text"
      },
      "source": [
        "We can see that AIRLINE_DELAY is a bigger proportion of flights in the afternoon and the evening"
      ]
    },
    {
      "cell_type": "code",
      "metadata": {
        "id": "n1RmZJ7o8DLx",
        "colab_type": "code",
        "outputId": "52545fe6-0511-4f78-ecef-86386700354f",
        "colab": {
          "base_uri": "https://localhost:8080/",
          "height": 297
        }
      },
      "source": [
        "fig.suptitle('Scheduled departure times and type of delays', fontsize=13)\n",
        "df1 = df.groupby(['SCHEDULED_DEPARTURE', 'OUTPUT']).size().unstack()\n",
        "df1.plot(kind='barh', stacked=True).set_xlabel('Number of flights delayed due Airline fault (1) or something else (0)')\n"
      ],
      "execution_count": 0,
      "outputs": [
        {
          "output_type": "execute_result",
          "data": {
            "text/plain": [
              "Text(0.5, 0, 'Number of flights delayed due Airline fault (1) or something else (0)')"
            ]
          },
          "metadata": {
            "tags": []
          },
          "execution_count": 71
        },
        {
          "output_type": "display_data",
          "data": {
            "image/png": "[encoded data removed]",
            "text/plain": [
              "<Figure size 432x288 with 1 Axes>"
            ]
          },
          "metadata": {
            "tags": [],
            "needs_background": "light"
          }
        }
      ]
    },
    {
      "cell_type": "markdown",
      "metadata": {
        "id": "Rwt1FAY0nOf0",
        "colab_type": "text"
      },
      "source": [
        "2.3 Do the calendar months reveal any interesting patterns in connection with AIRLINE_DELAY?\n",
        "\n",
        "- We do see some differences with AIRLINE_DELAY being more prevalent over the summer months and the holiday months around December / January"
      ]
    },
    {
      "cell_type": "code",
      "metadata": {
        "id": "CcDdCuXu8rbb",
        "colab_type": "code",
        "outputId": "8397e774-1c41-4e65-c958-a6d429830995",
        "colab": {
          "base_uri": "https://localhost:8080/",
          "height": 315
        }
      },
      "source": [
        "fig = plt.figure()\n",
        "fig.suptitle('AIRLINE_DELAY by calendar months', fontsize=13)\n",
        "df1 = df.groupby(['MONTH', 'OUTPUT']).size().unstack()\n",
        "df1.plot(kind='barh', stacked=True).set_xlabel('Number of flights delayed due Airline fault (1) or something else (0)')"
      ],
      "execution_count": 0,
      "outputs": [
        {
          "output_type": "execute_result",
          "data": {
            "text/plain": [
              "Text(0.5, 0, 'Number of flights delayed due Airline fault (1) or something else (0)')"
            ]
          },
          "metadata": {
            "tags": []
          },
          "execution_count": 72
        },
        {
          "output_type": "display_data",
          "data": {
            "text/plain": [
              "<Figure size 432x288 with 0 Axes>"
            ]
          },
          "metadata": {
            "tags": []
          }
        },
        {
          "output_type": "display_data",
          "data": {
            "image/png": "[encoded data removed]",
            "text/plain": [
              "<Figure size 432x288 with 1 Axes>"
            ]
          },
          "metadata": {
            "tags": [],
            "needs_background": "light"
          }
        }
      ]
    },
    {
      "cell_type": "markdown",
      "metadata": {
        "id": "tip-wmwYJ1f_",
        "colab_type": "text"
      },
      "source": [
        "#Section D - Data Preparation\n"
      ]
    },
    {
      "cell_type": "code",
      "metadata": {
        "id": "pQyLst_dH4Ms",
        "colab_type": "code",
        "outputId": "9e70bb1f-f914-4d67-b24d-07bc9fd109ce",
        "colab": {
          "base_uri": "https://localhost:8080/",
          "height": 218
        }
      },
      "source": [
        "df.head()"
      ],
      "execution_count": 0,
      "outputs": [
        {
          "output_type": "execute_result",
          "data": {
            "text/html": [
              "<div>\n",
              "<style scoped>\n",
              "    .dataframe tbody tr th:only-of-type {\n",
              "        vertical-align: middle;\n",
              "    }\n",
              "\n",
              "    .dataframe tbody tr th {\n",
              "        vertical-align: top;\n",
              "    }\n",
              "\n",
              "    .dataframe thead th {\n",
              "        text-align: right;\n",
              "    }\n",
              "</style>\n",
              "<table border=\"1\" class=\"dataframe\">\n",
              "  <thead>\n",
              "    <tr style=\"text-align: right;\">\n",
              "      <th></th>\n",
              "      <th>YEAR</th>\n",
              "      <th>MONTH</th>\n",
              "      <th>DAY</th>\n",
              "      <th>DAY_OF_WEEK</th>\n",
              "      <th>AIRLINE</th>\n",
              "      <th>FLIGHT_NUMBER</th>\n",
              "      <th>TAIL_NUMBER</th>\n",
              "      <th>ORIGIN_AIRPORT</th>\n",
              "      <th>DESTINATION_AIRPORT</th>\n",
              "      <th>SCHEDULED_DEPARTURE</th>\n",
              "      <th>DEPARTURE_TIME</th>\n",
              "      <th>DEPARTURE_DELAY</th>\n",
              "      <th>TAXI_OUT</th>\n",
              "      <th>WHEELS_OFF</th>\n",
              "      <th>SCHEDULED_TIME</th>\n",
              "      <th>ELAPSED_TIME</th>\n",
              "      <th>AIR_TIME</th>\n",
              "      <th>DISTANCE</th>\n",
              "      <th>WHEELS_ON</th>\n",
              "      <th>TAXI_IN</th>\n",
              "      <th>SCHEDULED_ARRIVAL</th>\n",
              "      <th>ARRIVAL_TIME</th>\n",
              "      <th>ARRIVAL_DELAY</th>\n",
              "      <th>DIVERTED</th>\n",
              "      <th>CANCELLED</th>\n",
              "      <th>CANCELLATION_REASON</th>\n",
              "      <th>AIR_SYSTEM_DELAY</th>\n",
              "      <th>SECURITY_DELAY</th>\n",
              "      <th>AIRLINE_DELAY</th>\n",
              "      <th>LATE_AIRCRAFT_DELAY</th>\n",
              "      <th>WEATHER_DELAY</th>\n",
              "      <th>OUTPUT</th>\n",
              "    </tr>\n",
              "  </thead>\n",
              "  <tbody>\n",
              "    <tr>\n",
              "      <th>1776</th>\n",
              "      <td>2015</td>\n",
              "      <td>1</td>\n",
              "      <td>1</td>\n",
              "      <td>4</td>\n",
              "      <td>WN</td>\n",
              "      <td>912</td>\n",
              "      <td>N433LV</td>\n",
              "      <td>BWI</td>\n",
              "      <td>STL</td>\n",
              "      <td>0</td>\n",
              "      <td>822.0</td>\n",
              "      <td>12.0</td>\n",
              "      <td>16.0</td>\n",
              "      <td>838.0</td>\n",
              "      <td>140.0</td>\n",
              "      <td>156.0</td>\n",
              "      <td>137.0</td>\n",
              "      <td>0</td>\n",
              "      <td>955.0</td>\n",
              "      <td>3.0</td>\n",
              "      <td>930</td>\n",
              "      <td>958.0</td>\n",
              "      <td>28.0</td>\n",
              "      <td>0</td>\n",
              "      <td>0</td>\n",
              "      <td>NaN</td>\n",
              "      <td>16.0</td>\n",
              "      <td>0.0</td>\n",
              "      <td>12.0</td>\n",
              "      <td>0.0</td>\n",
              "      <td>0.0</td>\n",
              "      <td>1</td>\n",
              "    </tr>\n",
              "    <tr>\n",
              "      <th>2806</th>\n",
              "      <td>2015</td>\n",
              "      <td>1</td>\n",
              "      <td>1</td>\n",
              "      <td>4</td>\n",
              "      <td>WN</td>\n",
              "      <td>999</td>\n",
              "      <td>N203WN</td>\n",
              "      <td>LAS</td>\n",
              "      <td>ATL</td>\n",
              "      <td>0</td>\n",
              "      <td>927.0</td>\n",
              "      <td>2.0</td>\n",
              "      <td>33.0</td>\n",
              "      <td>1000.0</td>\n",
              "      <td>225.0</td>\n",
              "      <td>238.0</td>\n",
              "      <td>199.0</td>\n",
              "      <td>1</td>\n",
              "      <td>1619.0</td>\n",
              "      <td>6.0</td>\n",
              "      <td>1610</td>\n",
              "      <td>1625.0</td>\n",
              "      <td>15.0</td>\n",
              "      <td>0</td>\n",
              "      <td>0</td>\n",
              "      <td>NaN</td>\n",
              "      <td>15.0</td>\n",
              "      <td>0.0</td>\n",
              "      <td>0.0</td>\n",
              "      <td>0.0</td>\n",
              "      <td>0.0</td>\n",
              "      <td>0</td>\n",
              "    </tr>\n",
              "    <tr>\n",
              "      <th>3223</th>\n",
              "      <td>2015</td>\n",
              "      <td>1</td>\n",
              "      <td>1</td>\n",
              "      <td>4</td>\n",
              "      <td>WN</td>\n",
              "      <td>3492</td>\n",
              "      <td>N732SW</td>\n",
              "      <td>LAX</td>\n",
              "      <td>PHX</td>\n",
              "      <td>0</td>\n",
              "      <td>1452.0</td>\n",
              "      <td>297.0</td>\n",
              "      <td>8.0</td>\n",
              "      <td>1500.0</td>\n",
              "      <td>75.0</td>\n",
              "      <td>70.0</td>\n",
              "      <td>57.0</td>\n",
              "      <td>0</td>\n",
              "      <td>1657.0</td>\n",
              "      <td>5.0</td>\n",
              "      <td>1210</td>\n",
              "      <td>1702.0</td>\n",
              "      <td>292.0</td>\n",
              "      <td>0</td>\n",
              "      <td>0</td>\n",
              "      <td>NaN</td>\n",
              "      <td>0.0</td>\n",
              "      <td>0.0</td>\n",
              "      <td>292.0</td>\n",
              "      <td>0.0</td>\n",
              "      <td>0.0</td>\n",
              "      <td>1</td>\n",
              "    </tr>\n",
              "    <tr>\n",
              "      <th>3400</th>\n",
              "      <td>2015</td>\n",
              "      <td>1</td>\n",
              "      <td>1</td>\n",
              "      <td>4</td>\n",
              "      <td>WN</td>\n",
              "      <td>2041</td>\n",
              "      <td>N8317M</td>\n",
              "      <td>LAS</td>\n",
              "      <td>DEN</td>\n",
              "      <td>0</td>\n",
              "      <td>1046.0</td>\n",
              "      <td>41.0</td>\n",
              "      <td>12.0</td>\n",
              "      <td>1058.0</td>\n",
              "      <td>115.0</td>\n",
              "      <td>107.0</td>\n",
              "      <td>88.0</td>\n",
              "      <td>0</td>\n",
              "      <td>1326.0</td>\n",
              "      <td>7.0</td>\n",
              "      <td>1300</td>\n",
              "      <td>1333.0</td>\n",
              "      <td>33.0</td>\n",
              "      <td>0</td>\n",
              "      <td>0</td>\n",
              "      <td>NaN</td>\n",
              "      <td>0.0</td>\n",
              "      <td>0.0</td>\n",
              "      <td>31.0</td>\n",
              "      <td>2.0</td>\n",
              "      <td>0.0</td>\n",
              "      <td>1</td>\n",
              "    </tr>\n",
              "    <tr>\n",
              "      <th>3777</th>\n",
              "      <td>2015</td>\n",
              "      <td>1</td>\n",
              "      <td>1</td>\n",
              "      <td>4</td>\n",
              "      <td>WN</td>\n",
              "      <td>972</td>\n",
              "      <td>N761RR</td>\n",
              "      <td>LAS</td>\n",
              "      <td>LAX</td>\n",
              "      <td>0</td>\n",
              "      <td>1118.0</td>\n",
              "      <td>48.0</td>\n",
              "      <td>12.0</td>\n",
              "      <td>1130.0</td>\n",
              "      <td>65.0</td>\n",
              "      <td>60.0</td>\n",
              "      <td>40.0</td>\n",
              "      <td>0</td>\n",
              "      <td>1210.0</td>\n",
              "      <td>8.0</td>\n",
              "      <td>1135</td>\n",
              "      <td>1218.0</td>\n",
              "      <td>43.0</td>\n",
              "      <td>0</td>\n",
              "      <td>0</td>\n",
              "      <td>NaN</td>\n",
              "      <td>0.0</td>\n",
              "      <td>0.0</td>\n",
              "      <td>12.0</td>\n",
              "      <td>31.0</td>\n",
              "      <td>0.0</td>\n",
              "      <td>1</td>\n",
              "    </tr>\n",
              "  </tbody>\n",
              "</table>\n",
              "</div>"
            ],
            "text/plain": [
              "      YEAR  MONTH  DAY  ...  LATE_AIRCRAFT_DELAY WEATHER_DELAY  OUTPUT\n",
              "1776  2015      1    1  ...                  0.0           0.0       1\n",
              "2806  2015      1    1  ...                  0.0           0.0       0\n",
              "3223  2015      1    1  ...                  0.0           0.0       1\n",
              "3400  2015      1    1  ...                  2.0           0.0       1\n",
              "3777  2015      1    1  ...                 31.0           0.0       1\n",
              "\n",
              "[5 rows x 32 columns]"
            ]
          },
          "metadata": {
            "tags": []
          },
          "execution_count": 73
        }
      ]
    },
    {
      "cell_type": "markdown",
      "metadata": {
        "id": "aTRc604nKbjr",
        "colab_type": "text"
      },
      "source": [
        "3.1 Columns that can be dropped"
      ]
    },
    {
      "cell_type": "code",
      "metadata": {
        "id": "bEza0zBwCEkp",
        "colab_type": "code",
        "colab": {}
      },
      "source": [
        "# We have captured information \n",
        "# about ARRIVAL_DELAY in a new OUTPUT column.\n",
        "# We remove the following columns to avoid \"TARGET DATA LEAKAGE\"\n",
        "df = df.drop(\"AIRLINE_DELAY\",1)\n",
        "df = df.drop(\"DEPARTURE_DELAY\",1)\n",
        "df = df.drop(\"ARRIVAL_DELAY\",1)\n",
        "\n",
        "# We are not interested \n",
        "# in the these reasons for delay\n",
        "df = df.drop(\"SECURITY_DELAY\",1)\n",
        "df = df.drop(\"AIR_SYSTEM_DELAY\",1)\n",
        "df = df.drop(\"LATE_AIRCRAFT_DELAY\",1)\n",
        "df = df.drop(\"WEATHER_DELAY\",1)\n",
        "\n",
        "# The following columns add\n",
        "# no new information for our analysis\n",
        "#df = df.drop(\"DAY\",1)\n",
        "df = df.drop(\"YEAR\",1)\n",
        "df = df.drop(\"CANCELLATION_REASON\",1)\n",
        "\n",
        "#df = df.drop(\"FLIGHT_NUMBER\",1)\n",
        "df = df.drop(\"TAIL_NUMBER\",1)\n",
        "\n",
        "df = df.drop(\"AIR_TIME\",1)\n",
        "df = df.drop(\"ELAPSED_TIME\",1)\n",
        "\n",
        "df = df.drop(\"ARRIVAL_TIME\",1)\n",
        "df = df.drop(\"SCHEDULED_TIME\",1)\n",
        "\n",
        "df = df.drop(\"WHEELS_OFF\",1)\n",
        "df = df.drop(\"WHEELS_ON\",1)\n",
        "df = df.drop(\"TAXI_OUT\",1)\n",
        "df = df.drop(\"TAXI_IN\",1)\n",
        "\n",
        "df = df.drop(\"DIVERTED\",1)\n",
        "df = df.drop(\"CANCELLED\",1)\n",
        "\n",
        "# Recall that we are only looking at one\n",
        "# airline - WN - so we will delete this column\n",
        "df = df.drop(\"AIRLINE\",1)\n"
      ],
      "execution_count": 0,
      "outputs": []
    },
    {
      "cell_type": "markdown",
      "metadata": {
        "id": "8zpvvky8T_Qh",
        "colab_type": "text"
      },
      "source": [
        ""
      ]
    },
    {
      "cell_type": "code",
      "metadata": {
        "id": "tD_mhpahiqwk",
        "colab_type": "code",
        "outputId": "23fdcd1e-edd2-440d-d494-16364f93f723",
        "colab": {
          "base_uri": "https://localhost:8080/",
          "height": 198
        }
      },
      "source": [
        "df.head()"
      ],
      "execution_count": 0,
      "outputs": [
        {
          "output_type": "execute_result",
          "data": {
            "text/html": [
              "<div>\n",
              "<style scoped>\n",
              "    .dataframe tbody tr th:only-of-type {\n",
              "        vertical-align: middle;\n",
              "    }\n",
              "\n",
              "    .dataframe tbody tr th {\n",
              "        vertical-align: top;\n",
              "    }\n",
              "\n",
              "    .dataframe thead th {\n",
              "        text-align: right;\n",
              "    }\n",
              "</style>\n",
              "<table border=\"1\" class=\"dataframe\">\n",
              "  <thead>\n",
              "    <tr style=\"text-align: right;\">\n",
              "      <th></th>\n",
              "      <th>MONTH</th>\n",
              "      <th>DAY</th>\n",
              "      <th>DAY_OF_WEEK</th>\n",
              "      <th>FLIGHT_NUMBER</th>\n",
              "      <th>ORIGIN_AIRPORT</th>\n",
              "      <th>DESTINATION_AIRPORT</th>\n",
              "      <th>SCHEDULED_DEPARTURE</th>\n",
              "      <th>DEPARTURE_TIME</th>\n",
              "      <th>DISTANCE</th>\n",
              "      <th>SCHEDULED_ARRIVAL</th>\n",
              "      <th>OUTPUT</th>\n",
              "    </tr>\n",
              "  </thead>\n",
              "  <tbody>\n",
              "    <tr>\n",
              "      <th>1776</th>\n",
              "      <td>1</td>\n",
              "      <td>1</td>\n",
              "      <td>4</td>\n",
              "      <td>912</td>\n",
              "      <td>BWI</td>\n",
              "      <td>STL</td>\n",
              "      <td>0</td>\n",
              "      <td>822.0</td>\n",
              "      <td>0</td>\n",
              "      <td>930</td>\n",
              "      <td>1</td>\n",
              "    </tr>\n",
              "    <tr>\n",
              "      <th>2806</th>\n",
              "      <td>1</td>\n",
              "      <td>1</td>\n",
              "      <td>4</td>\n",
              "      <td>999</td>\n",
              "      <td>LAS</td>\n",
              "      <td>ATL</td>\n",
              "      <td>0</td>\n",
              "      <td>927.0</td>\n",
              "      <td>1</td>\n",
              "      <td>1610</td>\n",
              "      <td>0</td>\n",
              "    </tr>\n",
              "    <tr>\n",
              "      <th>3223</th>\n",
              "      <td>1</td>\n",
              "      <td>1</td>\n",
              "      <td>4</td>\n",
              "      <td>3492</td>\n",
              "      <td>LAX</td>\n",
              "      <td>PHX</td>\n",
              "      <td>0</td>\n",
              "      <td>1452.0</td>\n",
              "      <td>0</td>\n",
              "      <td>1210</td>\n",
              "      <td>1</td>\n",
              "    </tr>\n",
              "    <tr>\n",
              "      <th>3400</th>\n",
              "      <td>1</td>\n",
              "      <td>1</td>\n",
              "      <td>4</td>\n",
              "      <td>2041</td>\n",
              "      <td>LAS</td>\n",
              "      <td>DEN</td>\n",
              "      <td>0</td>\n",
              "      <td>1046.0</td>\n",
              "      <td>0</td>\n",
              "      <td>1300</td>\n",
              "      <td>1</td>\n",
              "    </tr>\n",
              "    <tr>\n",
              "      <th>3777</th>\n",
              "      <td>1</td>\n",
              "      <td>1</td>\n",
              "      <td>4</td>\n",
              "      <td>972</td>\n",
              "      <td>LAS</td>\n",
              "      <td>LAX</td>\n",
              "      <td>0</td>\n",
              "      <td>1118.0</td>\n",
              "      <td>0</td>\n",
              "      <td>1135</td>\n",
              "      <td>1</td>\n",
              "    </tr>\n",
              "  </tbody>\n",
              "</table>\n",
              "</div>"
            ],
            "text/plain": [
              "      MONTH  DAY  DAY_OF_WEEK  ...  DISTANCE SCHEDULED_ARRIVAL OUTPUT\n",
              "1776      1    1            4  ...         0               930      1\n",
              "2806      1    1            4  ...         1              1610      0\n",
              "3223      1    1            4  ...         0              1210      1\n",
              "3400      1    1            4  ...         0              1300      1\n",
              "3777      1    1            4  ...         0              1135      1\n",
              "\n",
              "[5 rows x 11 columns]"
            ]
          },
          "metadata": {
            "tags": []
          },
          "execution_count": 75
        }
      ]
    },
    {
      "cell_type": "markdown",
      "metadata": {
        "id": "wEpFMgjRKi79",
        "colab_type": "text"
      },
      "source": [
        "3.2 Examine the correlation of the remaining numerical features\n",
        "\n",
        "Observations:\n",
        "\n",
        "\n",
        "*   SCHEDULED_DEPARTURE and SCHEDULED_ARRIVAL are highly correlated\n",
        "*   DEPARTURE_TIME and SCHEDULED_DEPARTURE are highly correlated\n",
        "\n",
        "\n"
      ]
    },
    {
      "cell_type": "code",
      "metadata": {
        "id": "5d9mVo9dCsjE",
        "colab_type": "code",
        "outputId": "0aa1808b-80e9-427e-cb71-87faf836afc8",
        "colab": {
          "base_uri": "https://localhost:8080/",
          "height": 385
        }
      },
      "source": [
        "\n",
        "def run_correlation_analysis():\n",
        "    numerical_columns = df._get_numeric_data().columns\n",
        "    numerical_features_df = pd.DataFrame(df, columns = numerical_columns)\n",
        "    correlation_matrix = numerical_features_df.corr().round(2)\n",
        "    sns.heatmap(data=correlation_matrix, annot=True)\n",
        "run_correlation_analysis()"
      ],
      "execution_count": 0,
      "outputs": [
        {
          "output_type": "display_data",
          "data": {
            "image/png": "[encoded data removed]",
            "text/plain": [
              "<Figure size 432x288 with 2 Axes>"
            ]
          },
          "metadata": {
            "tags": [],
            "needs_background": "light"
          }
        }
      ]
    },
    {
      "cell_type": "markdown",
      "metadata": {
        "id": "-S6licR6lFqD",
        "colab_type": "text"
      },
      "source": [
        "3.3 Examine multicollinearity via Variance Inflation Factor"
      ]
    },
    {
      "cell_type": "code",
      "metadata": {
        "id": "30asY9hLTvWt",
        "colab_type": "code",
        "outputId": "89cbbd10-f508-43e6-f995-3b0917a90ceb",
        "colab": {
          "base_uri": "https://localhost:8080/",
          "height": 217
        }
      },
      "source": [
        "from statsmodels.stats.outliers_influence import variance_inflation_factor\n",
        "from statsmodels.api import add_constant\n",
        "import pandas as pd\n",
        "\n",
        "numerical_columns = df._get_numeric_data().columns\n",
        "numerical_features_df = pd.DataFrame(df, columns = numerical_columns)\n",
        "X = add_constant(numerical_features_df)\n",
        "\n",
        "pd.Series([variance_inflation_factor(X.values, i) \n",
        "               for i in range(X.shape[1])], \n",
        "              index=X.columns)\n"
      ],
      "execution_count": 0,
      "outputs": [
        {
          "output_type": "execute_result",
          "data": {
            "text/plain": [
              "const                  36.756865\n",
              "MONTH                   1.026737\n",
              "DAY                     1.022702\n",
              "DAY_OF_WEEK             1.013790\n",
              "FLIGHT_NUMBER           1.017424\n",
              "SCHEDULED_DEPARTURE     3.203710\n",
              "DEPARTURE_TIME          3.219949\n",
              "DISTANCE                1.012522\n",
              "SCHEDULED_ARRIVAL       1.361803\n",
              "OUTPUT                  1.005397\n",
              "dtype: float64"
            ]
          },
          "metadata": {
            "tags": []
          },
          "execution_count": 77
        }
      ]
    },
    {
      "cell_type": "markdown",
      "metadata": {
        "id": "-QSdQ3ZpPZUB",
        "colab_type": "text"
      },
      "source": [
        "3.4 Remove following numerical variables that were found in cell 3.2 that are highly correlated with other variables in the dataset\n",
        "\n",
        "*   DEPARTURE_TIME\n",
        "*   SCHEDULED_ARRIVAL\n",
        "\n"
      ]
    },
    {
      "cell_type": "code",
      "metadata": {
        "id": "kPzFQqcbOfbM",
        "colab_type": "code",
        "colab": {}
      },
      "source": [
        "\n",
        "df = df.drop(\"DEPARTURE_TIME\",1)\n",
        "df = df.drop(\"SCHEDULED_ARRIVAL\",1)"
      ],
      "execution_count": 0,
      "outputs": []
    },
    {
      "cell_type": "code",
      "metadata": {
        "id": "Ny1RaN5eklG6",
        "colab_type": "code",
        "outputId": "eda9045a-bd4a-4fe2-83fd-0f4f7f018190",
        "colab": {
          "base_uri": "https://localhost:8080/",
          "height": 198
        }
      },
      "source": [
        "df.head()"
      ],
      "execution_count": 0,
      "outputs": [
        {
          "output_type": "execute_result",
          "data": {
            "text/html": [
              "<div>\n",
              "<style scoped>\n",
              "    .dataframe tbody tr th:only-of-type {\n",
              "        vertical-align: middle;\n",
              "    }\n",
              "\n",
              "    .dataframe tbody tr th {\n",
              "        vertical-align: top;\n",
              "    }\n",
              "\n",
              "    .dataframe thead th {\n",
              "        text-align: right;\n",
              "    }\n",
              "</style>\n",
              "<table border=\"1\" class=\"dataframe\">\n",
              "  <thead>\n",
              "    <tr style=\"text-align: right;\">\n",
              "      <th></th>\n",
              "      <th>MONTH</th>\n",
              "      <th>DAY_OF_WEEK</th>\n",
              "      <th>ORIGIN_AIRPORT</th>\n",
              "      <th>DESTINATION_AIRPORT</th>\n",
              "      <th>SCHEDULED_DEPARTURE</th>\n",
              "      <th>DISTANCE</th>\n",
              "      <th>OUTPUT</th>\n",
              "    </tr>\n",
              "  </thead>\n",
              "  <tbody>\n",
              "    <tr>\n",
              "      <th>1776</th>\n",
              "      <td>1</td>\n",
              "      <td>4</td>\n",
              "      <td>BWI</td>\n",
              "      <td>STL</td>\n",
              "      <td>0</td>\n",
              "      <td>0</td>\n",
              "      <td>1</td>\n",
              "    </tr>\n",
              "    <tr>\n",
              "      <th>2806</th>\n",
              "      <td>1</td>\n",
              "      <td>4</td>\n",
              "      <td>LAS</td>\n",
              "      <td>ATL</td>\n",
              "      <td>0</td>\n",
              "      <td>1</td>\n",
              "      <td>0</td>\n",
              "    </tr>\n",
              "    <tr>\n",
              "      <th>3223</th>\n",
              "      <td>1</td>\n",
              "      <td>4</td>\n",
              "      <td>LAX</td>\n",
              "      <td>PHX</td>\n",
              "      <td>0</td>\n",
              "      <td>0</td>\n",
              "      <td>1</td>\n",
              "    </tr>\n",
              "    <tr>\n",
              "      <th>3400</th>\n",
              "      <td>1</td>\n",
              "      <td>4</td>\n",
              "      <td>LAS</td>\n",
              "      <td>DEN</td>\n",
              "      <td>0</td>\n",
              "      <td>0</td>\n",
              "      <td>1</td>\n",
              "    </tr>\n",
              "    <tr>\n",
              "      <th>3777</th>\n",
              "      <td>1</td>\n",
              "      <td>4</td>\n",
              "      <td>LAS</td>\n",
              "      <td>LAX</td>\n",
              "      <td>0</td>\n",
              "      <td>0</td>\n",
              "      <td>1</td>\n",
              "    </tr>\n",
              "  </tbody>\n",
              "</table>\n",
              "</div>"
            ],
            "text/plain": [
              "      MONTH  DAY_OF_WEEK ORIGIN_AIRPORT  ... SCHEDULED_DEPARTURE  DISTANCE  OUTPUT\n",
              "1776      1            4            BWI  ...                   0         0       1\n",
              "2806      1            4            LAS  ...                   0         1       0\n",
              "3223      1            4            LAX  ...                   0         0       1\n",
              "3400      1            4            LAS  ...                   0         0       1\n",
              "3777      1            4            LAS  ...                   0         0       1\n",
              "\n",
              "[5 rows x 7 columns]"
            ]
          },
          "metadata": {
            "tags": []
          },
          "execution_count": 31
        }
      ]
    },
    {
      "cell_type": "markdown",
      "metadata": {
        "id": "Tl5Gq_L7PS9Z",
        "colab_type": "text"
      },
      "source": [
        "3.5 Correlation analysis sanity check"
      ]
    },
    {
      "cell_type": "code",
      "metadata": {
        "id": "oFthzK0mO_CX",
        "colab_type": "code",
        "outputId": "67ba9dae-866b-4874-9304-201dd049ca49",
        "colab": {
          "base_uri": "https://localhost:8080/",
          "height": 385
        }
      },
      "source": [
        "run_correlation_analysis()"
      ],
      "execution_count": 0,
      "outputs": [
        {
          "output_type": "display_data",
          "data": {
            "image/png": "[encoded data removed]",
            "text/plain": [
              "<Figure size 432x288 with 2 Axes>"
            ]
          },
          "metadata": {
            "tags": [],
            "needs_background": "light"
          }
        }
      ]
    },
    {
      "cell_type": "markdown",
      "metadata": {
        "id": "nspcAQ_BI4c1",
        "colab_type": "text"
      },
      "source": [
        "3.6 Prepare DISTANCE and SCHEDULED_DEPARTURE variables for ONE HOT ENCODING"
      ]
    },
    {
      "cell_type": "code",
      "metadata": {
        "id": "UE2o-c4Xeoh3",
        "colab_type": "code",
        "colab": {}
      },
      "source": [
        "df.loc[df[\"DISTANCE\"] == 0, 'DISTANCE'] = \"SHORT\"\n",
        "df.loc[df[\"DISTANCE\"] == 1, 'DISTANCE'] = \"MEDIUM\"\n",
        "df.loc[df[\"DISTANCE\"] == 2, 'DISTANCE'] = \"LONG\""
      ],
      "execution_count": 0,
      "outputs": []
    },
    {
      "cell_type": "code",
      "metadata": {
        "id": "NJwt9MEKe49A",
        "colab_type": "code",
        "colab": {}
      },
      "source": [
        "df.loc[df[\"SCHEDULED_DEPARTURE\"] == 0, 'SCHEDULED_DEPARTURE'] = \"MORNING\"\n",
        "df.loc[df[\"SCHEDULED_DEPARTURE\"] == 1, 'SCHEDULED_DEPARTURE'] = \"AFTERNOON\"\n",
        "df.loc[df[\"SCHEDULED_DEPARTURE\"] == 2, 'SCHEDULED_DEPARTURE'] = \"EVENING\""
      ],
      "execution_count": 0,
      "outputs": []
    },
    {
      "cell_type": "markdown",
      "metadata": {
        "id": "VaYRdjqqmRDX",
        "colab_type": "text"
      },
      "source": [
        "3.7 ONE HOT ENCODE categorical variables"
      ]
    },
    {
      "cell_type": "code",
      "metadata": {
        "id": "ZkPj4_XHW4oc",
        "colab_type": "code",
        "outputId": "3e6f14ea-9109-4b15-8da2-b8f7e7e01a90",
        "colab": {
          "base_uri": "https://localhost:8080/",
          "height": 35
        }
      },
      "source": [
        "\n",
        "categorical_columns = get_categorical_features()\n",
        "print(categorical_columns)"
      ],
      "execution_count": 0,
      "outputs": [
        {
          "output_type": "stream",
          "text": [
            "['DESTINATION_AIRPORT', 'DISTANCE', 'ORIGIN_AIRPORT', 'SCHEDULED_DEPARTURE']\n"
          ],
          "name": "stdout"
        }
      ]
    },
    {
      "cell_type": "code",
      "metadata": {
        "id": "jTMThCoWbyws",
        "colab_type": "code",
        "colab": {}
      },
      "source": [
        "def one_hot_encode_cols(df, cols):\n",
        "    df_categorical = pd.get_dummies(cols)\n",
        "    df = pd.concat([df, df_categorical], axis = 1)\n",
        "    return df\n",
        "df = one_hot_encode_cols(df, df[categorical_columns])"
      ],
      "execution_count": 0,
      "outputs": []
    },
    {
      "cell_type": "code",
      "metadata": {
        "id": "cQ16Ki65Aw5d",
        "colab_type": "code",
        "outputId": "dbee3163-6ce1-4403-f232-9112dc8b7570",
        "colab": {
          "base_uri": "https://localhost:8080/",
          "height": 218
        }
      },
      "source": [
        "df.head()"
      ],
      "execution_count": 0,
      "outputs": [
        {
          "output_type": "execute_result",
          "data": {
            "text/html": [
              "<div>\n",
              "<style scoped>\n",
              "    .dataframe tbody tr th:only-of-type {\n",
              "        vertical-align: middle;\n",
              "    }\n",
              "\n",
              "    .dataframe tbody tr th {\n",
              "        vertical-align: top;\n",
              "    }\n",
              "\n",
              "    .dataframe thead th {\n",
              "        text-align: right;\n",
              "    }\n",
              "</style>\n",
              "<table border=\"1\" class=\"dataframe\">\n",
              "  <thead>\n",
              "    <tr style=\"text-align: right;\">\n",
              "      <th></th>\n",
              "      <th>MONTH</th>\n",
              "      <th>DAY</th>\n",
              "      <th>DAY_OF_WEEK</th>\n",
              "      <th>FLIGHT_NUMBER</th>\n",
              "      <th>ORIGIN_AIRPORT</th>\n",
              "      <th>DESTINATION_AIRPORT</th>\n",
              "      <th>SCHEDULED_DEPARTURE</th>\n",
              "      <th>DISTANCE</th>\n",
              "      <th>OUTPUT</th>\n",
              "      <th>DESTINATION_AIRPORT_ATL</th>\n",
              "      <th>DESTINATION_AIRPORT_BWI</th>\n",
              "      <th>DESTINATION_AIRPORT_DAL</th>\n",
              "      <th>DESTINATION_AIRPORT_DEN</th>\n",
              "      <th>DESTINATION_AIRPORT_HOU</th>\n",
              "      <th>DESTINATION_AIRPORT_LAS</th>\n",
              "      <th>DESTINATION_AIRPORT_LAX</th>\n",
              "      <th>DESTINATION_AIRPORT_MDW</th>\n",
              "      <th>DESTINATION_AIRPORT_PHX</th>\n",
              "      <th>DESTINATION_AIRPORT_STL</th>\n",
              "      <th>DISTANCE_LONG</th>\n",
              "      <th>DISTANCE_MEDIUM</th>\n",
              "      <th>DISTANCE_SHORT</th>\n",
              "      <th>ORIGIN_AIRPORT_ATL</th>\n",
              "      <th>ORIGIN_AIRPORT_BWI</th>\n",
              "      <th>ORIGIN_AIRPORT_DAL</th>\n",
              "      <th>ORIGIN_AIRPORT_DEN</th>\n",
              "      <th>ORIGIN_AIRPORT_HOU</th>\n",
              "      <th>ORIGIN_AIRPORT_LAS</th>\n",
              "      <th>ORIGIN_AIRPORT_LAX</th>\n",
              "      <th>ORIGIN_AIRPORT_MCO</th>\n",
              "      <th>ORIGIN_AIRPORT_MDW</th>\n",
              "      <th>ORIGIN_AIRPORT_PHX</th>\n",
              "      <th>SCHEDULED_DEPARTURE_AFTERNOON</th>\n",
              "      <th>SCHEDULED_DEPARTURE_EVENING</th>\n",
              "      <th>SCHEDULED_DEPARTURE_MORNING</th>\n",
              "    </tr>\n",
              "  </thead>\n",
              "  <tbody>\n",
              "    <tr>\n",
              "      <th>1776</th>\n",
              "      <td>1</td>\n",
              "      <td>1</td>\n",
              "      <td>4</td>\n",
              "      <td>912</td>\n",
              "      <td>BWI</td>\n",
              "      <td>STL</td>\n",
              "      <td>MORNING</td>\n",
              "      <td>SHORT</td>\n",
              "      <td>1</td>\n",
              "      <td>0</td>\n",
              "      <td>0</td>\n",
              "      <td>0</td>\n",
              "      <td>0</td>\n",
              "      <td>0</td>\n",
              "      <td>0</td>\n",
              "      <td>0</td>\n",
              "      <td>0</td>\n",
              "      <td>0</td>\n",
              "      <td>1</td>\n",
              "      <td>0</td>\n",
              "      <td>0</td>\n",
              "      <td>1</td>\n",
              "      <td>0</td>\n",
              "      <td>1</td>\n",
              "      <td>0</td>\n",
              "      <td>0</td>\n",
              "      <td>0</td>\n",
              "      <td>0</td>\n",
              "      <td>0</td>\n",
              "      <td>0</td>\n",
              "      <td>0</td>\n",
              "      <td>0</td>\n",
              "      <td>0</td>\n",
              "      <td>0</td>\n",
              "      <td>1</td>\n",
              "    </tr>\n",
              "    <tr>\n",
              "      <th>2806</th>\n",
              "      <td>1</td>\n",
              "      <td>1</td>\n",
              "      <td>4</td>\n",
              "      <td>999</td>\n",
              "      <td>LAS</td>\n",
              "      <td>ATL</td>\n",
              "      <td>MORNING</td>\n",
              "      <td>MEDIUM</td>\n",
              "      <td>0</td>\n",
              "      <td>1</td>\n",
              "      <td>0</td>\n",
              "      <td>0</td>\n",
              "      <td>0</td>\n",
              "      <td>0</td>\n",
              "      <td>0</td>\n",
              "      <td>0</td>\n",
              "      <td>0</td>\n",
              "      <td>0</td>\n",
              "      <td>0</td>\n",
              "      <td>0</td>\n",
              "      <td>1</td>\n",
              "      <td>0</td>\n",
              "      <td>0</td>\n",
              "      <td>0</td>\n",
              "      <td>0</td>\n",
              "      <td>0</td>\n",
              "      <td>0</td>\n",
              "      <td>1</td>\n",
              "      <td>0</td>\n",
              "      <td>0</td>\n",
              "      <td>0</td>\n",
              "      <td>0</td>\n",
              "      <td>0</td>\n",
              "      <td>0</td>\n",
              "      <td>1</td>\n",
              "    </tr>\n",
              "    <tr>\n",
              "      <th>3223</th>\n",
              "      <td>1</td>\n",
              "      <td>1</td>\n",
              "      <td>4</td>\n",
              "      <td>3492</td>\n",
              "      <td>LAX</td>\n",
              "      <td>PHX</td>\n",
              "      <td>MORNING</td>\n",
              "      <td>SHORT</td>\n",
              "      <td>1</td>\n",
              "      <td>0</td>\n",
              "      <td>0</td>\n",
              "      <td>0</td>\n",
              "      <td>0</td>\n",
              "      <td>0</td>\n",
              "      <td>0</td>\n",
              "      <td>0</td>\n",
              "      <td>0</td>\n",
              "      <td>1</td>\n",
              "      <td>0</td>\n",
              "      <td>0</td>\n",
              "      <td>0</td>\n",
              "      <td>1</td>\n",
              "      <td>0</td>\n",
              "      <td>0</td>\n",
              "      <td>0</td>\n",
              "      <td>0</td>\n",
              "      <td>0</td>\n",
              "      <td>0</td>\n",
              "      <td>1</td>\n",
              "      <td>0</td>\n",
              "      <td>0</td>\n",
              "      <td>0</td>\n",
              "      <td>0</td>\n",
              "      <td>0</td>\n",
              "      <td>1</td>\n",
              "    </tr>\n",
              "    <tr>\n",
              "      <th>3400</th>\n",
              "      <td>1</td>\n",
              "      <td>1</td>\n",
              "      <td>4</td>\n",
              "      <td>2041</td>\n",
              "      <td>LAS</td>\n",
              "      <td>DEN</td>\n",
              "      <td>MORNING</td>\n",
              "      <td>SHORT</td>\n",
              "      <td>1</td>\n",
              "      <td>0</td>\n",
              "      <td>0</td>\n",
              "      <td>0</td>\n",
              "      <td>1</td>\n",
              "      <td>0</td>\n",
              "      <td>0</td>\n",
              "      <td>0</td>\n",
              "      <td>0</td>\n",
              "      <td>0</td>\n",
              "      <td>0</td>\n",
              "      <td>0</td>\n",
              "      <td>0</td>\n",
              "      <td>1</td>\n",
              "      <td>0</td>\n",
              "      <td>0</td>\n",
              "      <td>0</td>\n",
              "      <td>0</td>\n",
              "      <td>0</td>\n",
              "      <td>1</td>\n",
              "      <td>0</td>\n",
              "      <td>0</td>\n",
              "      <td>0</td>\n",
              "      <td>0</td>\n",
              "      <td>0</td>\n",
              "      <td>0</td>\n",
              "      <td>1</td>\n",
              "    </tr>\n",
              "    <tr>\n",
              "      <th>3777</th>\n",
              "      <td>1</td>\n",
              "      <td>1</td>\n",
              "      <td>4</td>\n",
              "      <td>972</td>\n",
              "      <td>LAS</td>\n",
              "      <td>LAX</td>\n",
              "      <td>MORNING</td>\n",
              "      <td>SHORT</td>\n",
              "      <td>1</td>\n",
              "      <td>0</td>\n",
              "      <td>0</td>\n",
              "      <td>0</td>\n",
              "      <td>0</td>\n",
              "      <td>0</td>\n",
              "      <td>0</td>\n",
              "      <td>1</td>\n",
              "      <td>0</td>\n",
              "      <td>0</td>\n",
              "      <td>0</td>\n",
              "      <td>0</td>\n",
              "      <td>0</td>\n",
              "      <td>1</td>\n",
              "      <td>0</td>\n",
              "      <td>0</td>\n",
              "      <td>0</td>\n",
              "      <td>0</td>\n",
              "      <td>0</td>\n",
              "      <td>1</td>\n",
              "      <td>0</td>\n",
              "      <td>0</td>\n",
              "      <td>0</td>\n",
              "      <td>0</td>\n",
              "      <td>0</td>\n",
              "      <td>0</td>\n",
              "      <td>1</td>\n",
              "    </tr>\n",
              "  </tbody>\n",
              "</table>\n",
              "</div>"
            ],
            "text/plain": [
              "      MONTH  DAY  ...  SCHEDULED_DEPARTURE_EVENING  SCHEDULED_DEPARTURE_MORNING\n",
              "1776      1    1  ...                            0                            1\n",
              "2806      1    1  ...                            0                            1\n",
              "3223      1    1  ...                            0                            1\n",
              "3400      1    1  ...                            0                            1\n",
              "3777      1    1  ...                            0                            1\n",
              "\n",
              "[5 rows x 35 columns]"
            ]
          },
          "metadata": {
            "tags": []
          },
          "execution_count": 84
        }
      ]
    },
    {
      "cell_type": "markdown",
      "metadata": {
        "id": "YNIgTrVGmcPF",
        "colab_type": "text"
      },
      "source": [
        "3.7b Drop the columns that were ONE HOT ENCODED"
      ]
    },
    {
      "cell_type": "code",
      "metadata": {
        "id": "7BlI83gUg89_",
        "colab_type": "code",
        "outputId": "050fb688-0229-43ab-dd4e-a7f64a1b2b41",
        "colab": {
          "base_uri": "https://localhost:8080/",
          "height": 218
        }
      },
      "source": [
        "df = df.drop(\"SCHEDULED_DEPARTURE\",1)\n",
        "df = df.drop(\"DISTANCE\",1)\n",
        "df = df.drop(\"ORIGIN_AIRPORT\",1)\n",
        "df = df.drop(\"DESTINATION_AIRPORT\",1)\n",
        "\n",
        "df.head()"
      ],
      "execution_count": 0,
      "outputs": [
        {
          "output_type": "execute_result",
          "data": {
            "text/html": [
              "<div>\n",
              "<style scoped>\n",
              "    .dataframe tbody tr th:only-of-type {\n",
              "        vertical-align: middle;\n",
              "    }\n",
              "\n",
              "    .dataframe tbody tr th {\n",
              "        vertical-align: top;\n",
              "    }\n",
              "\n",
              "    .dataframe thead th {\n",
              "        text-align: right;\n",
              "    }\n",
              "</style>\n",
              "<table border=\"1\" class=\"dataframe\">\n",
              "  <thead>\n",
              "    <tr style=\"text-align: right;\">\n",
              "      <th></th>\n",
              "      <th>MONTH</th>\n",
              "      <th>DAY</th>\n",
              "      <th>DAY_OF_WEEK</th>\n",
              "      <th>FLIGHT_NUMBER</th>\n",
              "      <th>OUTPUT</th>\n",
              "      <th>DESTINATION_AIRPORT_ATL</th>\n",
              "      <th>DESTINATION_AIRPORT_BWI</th>\n",
              "      <th>DESTINATION_AIRPORT_DAL</th>\n",
              "      <th>DESTINATION_AIRPORT_DEN</th>\n",
              "      <th>DESTINATION_AIRPORT_HOU</th>\n",
              "      <th>DESTINATION_AIRPORT_LAS</th>\n",
              "      <th>DESTINATION_AIRPORT_LAX</th>\n",
              "      <th>DESTINATION_AIRPORT_MDW</th>\n",
              "      <th>DESTINATION_AIRPORT_PHX</th>\n",
              "      <th>DESTINATION_AIRPORT_STL</th>\n",
              "      <th>DISTANCE_LONG</th>\n",
              "      <th>DISTANCE_MEDIUM</th>\n",
              "      <th>DISTANCE_SHORT</th>\n",
              "      <th>ORIGIN_AIRPORT_ATL</th>\n",
              "      <th>ORIGIN_AIRPORT_BWI</th>\n",
              "      <th>ORIGIN_AIRPORT_DAL</th>\n",
              "      <th>ORIGIN_AIRPORT_DEN</th>\n",
              "      <th>ORIGIN_AIRPORT_HOU</th>\n",
              "      <th>ORIGIN_AIRPORT_LAS</th>\n",
              "      <th>ORIGIN_AIRPORT_LAX</th>\n",
              "      <th>ORIGIN_AIRPORT_MCO</th>\n",
              "      <th>ORIGIN_AIRPORT_MDW</th>\n",
              "      <th>ORIGIN_AIRPORT_PHX</th>\n",
              "      <th>SCHEDULED_DEPARTURE_AFTERNOON</th>\n",
              "      <th>SCHEDULED_DEPARTURE_EVENING</th>\n",
              "      <th>SCHEDULED_DEPARTURE_MORNING</th>\n",
              "    </tr>\n",
              "  </thead>\n",
              "  <tbody>\n",
              "    <tr>\n",
              "      <th>1776</th>\n",
              "      <td>1</td>\n",
              "      <td>1</td>\n",
              "      <td>4</td>\n",
              "      <td>912</td>\n",
              "      <td>1</td>\n",
              "      <td>0</td>\n",
              "      <td>0</td>\n",
              "      <td>0</td>\n",
              "      <td>0</td>\n",
              "      <td>0</td>\n",
              "      <td>0</td>\n",
              "      <td>0</td>\n",
              "      <td>0</td>\n",
              "      <td>0</td>\n",
              "      <td>1</td>\n",
              "      <td>0</td>\n",
              "      <td>0</td>\n",
              "      <td>1</td>\n",
              "      <td>0</td>\n",
              "      <td>1</td>\n",
              "      <td>0</td>\n",
              "      <td>0</td>\n",
              "      <td>0</td>\n",
              "      <td>0</td>\n",
              "      <td>0</td>\n",
              "      <td>0</td>\n",
              "      <td>0</td>\n",
              "      <td>0</td>\n",
              "      <td>0</td>\n",
              "      <td>0</td>\n",
              "      <td>1</td>\n",
              "    </tr>\n",
              "    <tr>\n",
              "      <th>2806</th>\n",
              "      <td>1</td>\n",
              "      <td>1</td>\n",
              "      <td>4</td>\n",
              "      <td>999</td>\n",
              "      <td>0</td>\n",
              "      <td>1</td>\n",
              "      <td>0</td>\n",
              "      <td>0</td>\n",
              "      <td>0</td>\n",
              "      <td>0</td>\n",
              "      <td>0</td>\n",
              "      <td>0</td>\n",
              "      <td>0</td>\n",
              "      <td>0</td>\n",
              "      <td>0</td>\n",
              "      <td>0</td>\n",
              "      <td>1</td>\n",
              "      <td>0</td>\n",
              "      <td>0</td>\n",
              "      <td>0</td>\n",
              "      <td>0</td>\n",
              "      <td>0</td>\n",
              "      <td>0</td>\n",
              "      <td>1</td>\n",
              "      <td>0</td>\n",
              "      <td>0</td>\n",
              "      <td>0</td>\n",
              "      <td>0</td>\n",
              "      <td>0</td>\n",
              "      <td>0</td>\n",
              "      <td>1</td>\n",
              "    </tr>\n",
              "    <tr>\n",
              "      <th>3223</th>\n",
              "      <td>1</td>\n",
              "      <td>1</td>\n",
              "      <td>4</td>\n",
              "      <td>3492</td>\n",
              "      <td>1</td>\n",
              "      <td>0</td>\n",
              "      <td>0</td>\n",
              "      <td>0</td>\n",
              "      <td>0</td>\n",
              "      <td>0</td>\n",
              "      <td>0</td>\n",
              "      <td>0</td>\n",
              "      <td>0</td>\n",
              "      <td>1</td>\n",
              "      <td>0</td>\n",
              "      <td>0</td>\n",
              "      <td>0</td>\n",
              "      <td>1</td>\n",
              "      <td>0</td>\n",
              "      <td>0</td>\n",
              "      <td>0</td>\n",
              "      <td>0</td>\n",
              "      <td>0</td>\n",
              "      <td>0</td>\n",
              "      <td>1</td>\n",
              "      <td>0</td>\n",
              "      <td>0</td>\n",
              "      <td>0</td>\n",
              "      <td>0</td>\n",
              "      <td>0</td>\n",
              "      <td>1</td>\n",
              "    </tr>\n",
              "    <tr>\n",
              "      <th>3400</th>\n",
              "      <td>1</td>\n",
              "      <td>1</td>\n",
              "      <td>4</td>\n",
              "      <td>2041</td>\n",
              "      <td>1</td>\n",
              "      <td>0</td>\n",
              "      <td>0</td>\n",
              "      <td>0</td>\n",
              "      <td>1</td>\n",
              "      <td>0</td>\n",
              "      <td>0</td>\n",
              "      <td>0</td>\n",
              "      <td>0</td>\n",
              "      <td>0</td>\n",
              "      <td>0</td>\n",
              "      <td>0</td>\n",
              "      <td>0</td>\n",
              "      <td>1</td>\n",
              "      <td>0</td>\n",
              "      <td>0</td>\n",
              "      <td>0</td>\n",
              "      <td>0</td>\n",
              "      <td>0</td>\n",
              "      <td>1</td>\n",
              "      <td>0</td>\n",
              "      <td>0</td>\n",
              "      <td>0</td>\n",
              "      <td>0</td>\n",
              "      <td>0</td>\n",
              "      <td>0</td>\n",
              "      <td>1</td>\n",
              "    </tr>\n",
              "    <tr>\n",
              "      <th>3777</th>\n",
              "      <td>1</td>\n",
              "      <td>1</td>\n",
              "      <td>4</td>\n",
              "      <td>972</td>\n",
              "      <td>1</td>\n",
              "      <td>0</td>\n",
              "      <td>0</td>\n",
              "      <td>0</td>\n",
              "      <td>0</td>\n",
              "      <td>0</td>\n",
              "      <td>0</td>\n",
              "      <td>1</td>\n",
              "      <td>0</td>\n",
              "      <td>0</td>\n",
              "      <td>0</td>\n",
              "      <td>0</td>\n",
              "      <td>0</td>\n",
              "      <td>1</td>\n",
              "      <td>0</td>\n",
              "      <td>0</td>\n",
              "      <td>0</td>\n",
              "      <td>0</td>\n",
              "      <td>0</td>\n",
              "      <td>1</td>\n",
              "      <td>0</td>\n",
              "      <td>0</td>\n",
              "      <td>0</td>\n",
              "      <td>0</td>\n",
              "      <td>0</td>\n",
              "      <td>0</td>\n",
              "      <td>1</td>\n",
              "    </tr>\n",
              "  </tbody>\n",
              "</table>\n",
              "</div>"
            ],
            "text/plain": [
              "      MONTH  DAY  ...  SCHEDULED_DEPARTURE_EVENING  SCHEDULED_DEPARTURE_MORNING\n",
              "1776      1    1  ...                            0                            1\n",
              "2806      1    1  ...                            0                            1\n",
              "3223      1    1  ...                            0                            1\n",
              "3400      1    1  ...                            0                            1\n",
              "3777      1    1  ...                            0                            1\n",
              "\n",
              "[5 rows x 31 columns]"
            ]
          },
          "metadata": {
            "tags": []
          },
          "execution_count": 85
        }
      ]
    },
    {
      "cell_type": "markdown",
      "metadata": {
        "id": "0xhNkfnvmoKt",
        "colab_type": "text"
      },
      "source": [
        "3.8 Rebalance the OUTPUT classes\n",
        "\n",
        "Here, we are going to downsample the majority class in-line with the minority class"
      ]
    },
    {
      "cell_type": "code",
      "metadata": {
        "id": "GbTtWH4LNVvX",
        "colab_type": "code",
        "outputId": "5e6f5971-e82c-42e9-ae30-aab09e0c4157",
        "colab": {
          "base_uri": "https://localhost:8080/",
          "height": 72
        }
      },
      "source": [
        "df.OUTPUT.value_counts()"
      ],
      "execution_count": 0,
      "outputs": [
        {
          "output_type": "execute_result",
          "data": {
            "text/plain": [
              "1    22959\n",
              "0    11594\n",
              "Name: OUTPUT, dtype: int64"
            ]
          },
          "metadata": {
            "tags": []
          },
          "execution_count": 86
        }
      ]
    },
    {
      "cell_type": "code",
      "metadata": {
        "id": "2T1UYBbYf6vl",
        "colab_type": "code",
        "outputId": "162cff49-5615-4149-9b69-36865274a7ca",
        "colab": {
          "base_uri": "https://localhost:8080/",
          "height": 72
        }
      },
      "source": [
        "\n",
        "from sklearn.utils import resample\n",
        "\n",
        "df_majority = df[df.OUTPUT==1]\n",
        "df_minority = df[df.OUTPUT==0]\n",
        "\n",
        "# Downsample majority class\n",
        "df_majority_downsampled = resample(df_majority, \n",
        "                                 replace=False,   \n",
        "                                 n_samples=11594,     \n",
        "                                 random_state=123)\n",
        " \n",
        "df2 = pd.concat([df_majority_downsampled, df_minority])\n",
        " \n",
        "# Display new class counts\n",
        "df2.OUTPUT.value_counts()"
      ],
      "execution_count": 0,
      "outputs": [
        {
          "output_type": "execute_result",
          "data": {
            "text/plain": [
              "1    11594\n",
              "0    11594\n",
              "Name: OUTPUT, dtype: int64"
            ]
          },
          "metadata": {
            "tags": []
          },
          "execution_count": 87
        }
      ]
    },
    {
      "cell_type": "markdown",
      "metadata": {
        "id": "ulLLQRB_qF3a",
        "colab_type": "text"
      },
      "source": [
        "3.9 Shuffle the dataset to ensure randomness"
      ]
    },
    {
      "cell_type": "code",
      "metadata": {
        "id": "BcevCrU_jCKH",
        "colab_type": "code",
        "colab": {}
      },
      "source": [
        "df2 = df2.sample(frac=1).reset_index(drop=True)"
      ],
      "execution_count": 0,
      "outputs": []
    },
    {
      "cell_type": "markdown",
      "metadata": {
        "id": "-XS2w6VUjEXI",
        "colab_type": "text"
      },
      "source": [
        "#Section E - Modelling\n"
      ]
    },
    {
      "cell_type": "markdown",
      "metadata": {
        "id": "vO_5a6dsqNmn",
        "colab_type": "text"
      },
      "source": [
        "4.1 Split the dataset into Train, Validation and Test Components"
      ]
    },
    {
      "cell_type": "code",
      "metadata": {
        "id": "PD4dvxNZqnRo",
        "colab_type": "code",
        "colab": {}
      },
      "source": [
        "#Code snippet taken from Stack Overflow [14]\n",
        "train, validate, test = np.split(df2.sample(frac=1), [int(.6*len(df2)), int(.8*len(df2))])"
      ],
      "execution_count": 0,
      "outputs": []
    },
    {
      "cell_type": "code",
      "metadata": {
        "id": "vIPJ0yi8rvni",
        "colab_type": "code",
        "outputId": "26fefa8b-4b30-4f09-f942-fff04b4e86f2",
        "colab": {
          "base_uri": "https://localhost:8080/",
          "height": 35
        }
      },
      "source": [
        "y_train = train.OUTPUT\n",
        "X_train = train.drop(\"OUTPUT\",1)\n",
        "X_train.shape"
      ],
      "execution_count": 0,
      "outputs": [
        {
          "output_type": "execute_result",
          "data": {
            "text/plain": [
              "(13912, 30)"
            ]
          },
          "metadata": {
            "tags": []
          },
          "execution_count": 129
        }
      ]
    },
    {
      "cell_type": "code",
      "metadata": {
        "id": "bc0gAEtCxRYp",
        "colab_type": "code",
        "outputId": "c5ee85fd-f5f7-451b-ecbb-d3365d2cef60",
        "colab": {
          "base_uri": "https://localhost:8080/",
          "height": 35
        }
      },
      "source": [
        "y_validate = validate.OUTPUT\n",
        "X_validate = validate.drop(\"OUTPUT\",1)\n",
        "X_validate.shape"
      ],
      "execution_count": 0,
      "outputs": [
        {
          "output_type": "execute_result",
          "data": {
            "text/plain": [
              "(4638, 30)"
            ]
          },
          "metadata": {
            "tags": []
          },
          "execution_count": 130
        }
      ]
    },
    {
      "cell_type": "code",
      "metadata": {
        "id": "2nIYNluKoSWT",
        "colab_type": "code",
        "outputId": "77047c41-4ab9-4000-8eaf-dc3687d1c6cc",
        "colab": {
          "base_uri": "https://localhost:8080/",
          "height": 35
        }
      },
      "source": [
        "y_test = test.OUTPUT\n",
        "X_test = test.drop(\"OUTPUT\",1)\n",
        "X_test.shape"
      ],
      "execution_count": 0,
      "outputs": [
        {
          "output_type": "execute_result",
          "data": {
            "text/plain": [
              "(4638, 30)"
            ]
          },
          "metadata": {
            "tags": []
          },
          "execution_count": 131
        }
      ]
    },
    {
      "cell_type": "code",
      "metadata": {
        "id": "_6CNgjog5kYF",
        "colab_type": "code",
        "outputId": "54f4cd99-4d11-435b-9f99-86aa4ce5327c",
        "colab": {
          "base_uri": "https://localhost:8080/",
          "height": 254
        }
      },
      "source": [
        "from sklearn import preprocessing\n",
        "import numpy as np\n",
        "scaler = preprocessing.StandardScaler().fit(X_train)\n",
        "\n",
        "scaler.transform(X_train)\n",
        "scaler.transform(X_validate)\n",
        "scaler.transform(X_test)"
      ],
      "execution_count": 0,
      "outputs": [
        {
          "output_type": "execute_result",
          "data": {
            "text/plain": [
              "array([[-0.06466   ,  0.94224411, -0.43538729, ..., -0.84432139,\n",
              "         1.30637467, -0.52232852],\n",
              "       [ 0.55337497, -1.33049894, -0.94052515, ..., -0.84432139,\n",
              "         1.30637467, -0.52232852],\n",
              "       [ 1.48042743, -1.44413609, -0.94052515, ...,  1.18438312,\n",
              "        -0.76547718, -0.52232852],\n",
              "       ...,\n",
              "       [ 1.78944492,  1.39679272, -1.445663  , ..., -0.84432139,\n",
              "         1.30637467, -0.52232852],\n",
              "       [ 0.86239246,  0.2604212 ,  0.57488842, ..., -0.84432139,\n",
              "        -0.76547718,  1.91450393],\n",
              "       [ 0.24435749,  0.94224411,  0.57488842, ...,  1.18438312,\n",
              "        -0.76547718, -0.52232852]])"
            ]
          },
          "metadata": {
            "tags": []
          },
          "execution_count": 132
        }
      ]
    },
    {
      "cell_type": "markdown",
      "metadata": {
        "id": "WEeDej0couZH",
        "colab_type": "text"
      },
      "source": [
        "4.2 Create Logistic Regression Model"
      ]
    },
    {
      "cell_type": "code",
      "metadata": {
        "id": "k76E0UtfwTyO",
        "colab_type": "code",
        "colab": {}
      },
      "source": [
        "lr_model = LogisticRegression(max_iter=250)\n",
        "lr_model.fit(X_train, y_train)\n",
        "lr_predicted = lr_model.predict(X_validate)\n"
      ],
      "execution_count": 0,
      "outputs": []
    },
    {
      "cell_type": "code",
      "metadata": {
        "id": "KCzkEr-yUrhu",
        "colab_type": "code",
        "outputId": "bfc3de7e-c968-4ec3-e581-0d56fb520117",
        "colab": {
          "base_uri": "https://localhost:8080/",
          "height": 35
        }
      },
      "source": [
        "roc_auc_score(y_validate, lr_predicted)\n"
      ],
      "execution_count": 0,
      "outputs": [
        {
          "output_type": "execute_result",
          "data": {
            "text/plain": [
              "0.5468691331988764"
            ]
          },
          "metadata": {
            "tags": []
          },
          "execution_count": 140
        }
      ]
    },
    {
      "cell_type": "markdown",
      "metadata": {
        "id": "no8OKOKbpxns",
        "colab_type": "text"
      },
      "source": [
        "4.2b Assess the importance of the features\n",
        "\n",
        "We can see from the rankings below that features like \"DAY_OF_WEEK\" are ranked poorly. We highlight this here as it is an important step to conduct. Unfortunately, from experiments conducted on the dataset the removal of features did not improve the model predictions scores. So, we will leave all the features in place."
      ]
    },
    {
      "cell_type": "code",
      "metadata": {
        "id": "2hdfis8iP7vX",
        "colab_type": "code",
        "colab": {}
      },
      "source": [
        "from sklearn.feature_selection import RFE\n",
        "\n",
        "selectors = RFE(lr_model, n_features_to_select=1)\n",
        "selectors = selectors.fit(X_train, y_train)\n",
        "order = selectors.ranking_"
      ],
      "execution_count": 0,
      "outputs": []
    },
    {
      "cell_type": "code",
      "metadata": {
        "id": "NUJ3P82uWKrD",
        "colab_type": "code",
        "outputId": "04502a17-0eea-4397-a301-e5d2e9e1a144",
        "colab": {
          "base_uri": "https://localhost:8080/",
          "height": 55
        }
      },
      "source": [
        "feature_rankings = []\n",
        "\n",
        "for item in order:\n",
        "  feature_rankings.append(X_train.columns[item -1])\n",
        "print(feature_rankings)"
      ],
      "execution_count": 0,
      "outputs": [
        {
          "output_type": "stream",
          "text": [
            "['ORIGIN_AIRPORT_MDW', 'SCHEDULED_DEPARTURE_EVENING', 'SCHEDULED_DEPARTURE_AFTERNOON', 'SCHEDULED_DEPARTURE_MORNING', 'FLIGHT_NUMBER', 'DESTINATION_AIRPORT_LAX', 'ORIGIN_AIRPORT_PHX', 'ORIGIN_AIRPORT_MCO', 'ORIGIN_AIRPORT_LAX', 'DESTINATION_AIRPORT_ATL', 'DESTINATION_AIRPORT_DAL', 'DESTINATION_AIRPORT_DEN', 'DESTINATION_AIRPORT_LAS', 'DAY_OF_WEEK', 'ORIGIN_AIRPORT_BWI', 'ORIGIN_AIRPORT_ATL', 'DESTINATION_AIRPORT_BWI', 'DESTINATION_AIRPORT_STL', 'DISTANCE_LONG', 'DESTINATION_AIRPORT_HOU', 'DESTINATION_AIRPORT_MDW', 'ORIGIN_AIRPORT_DEN', 'ORIGIN_AIRPORT_DAL', 'ORIGIN_AIRPORT_LAS', 'DAY', 'DESTINATION_AIRPORT_PHX', 'ORIGIN_AIRPORT_HOU', 'MONTH', 'DISTANCE_SHORT', 'DISTANCE_MEDIUM']\n"
          ],
          "name": "stdout"
        }
      ]
    },
    {
      "cell_type": "markdown",
      "metadata": {
        "id": "V5ARdpQhrf2i",
        "colab_type": "text"
      },
      "source": [
        "4.2c Remove lowest ranked features and re-compute Logistic Regression model"
      ]
    },
    {
      "cell_type": "code",
      "metadata": {
        "id": "UX1hVkX3qkJT",
        "colab_type": "code",
        "colab": {}
      },
      "source": [
        "X_train  = X_train.drop(\"MONTH\",1)\n",
        "X_train  = X_train.drop(\"DISTANCE_SHORT\",1)\n",
        "X_train  = X_train.drop(\"DISTANCE_MEDIUM\",1)\n",
        "\n",
        "X_validate  = X_validate.drop(\"MONTH\",1)\n",
        "X_validate  = X_validate.drop(\"DISTANCE_SHORT\",1)\n",
        "X_validate  = X_validate.drop(\"DISTANCE_MEDIUM\",1)"
      ],
      "execution_count": 0,
      "outputs": []
    },
    {
      "cell_type": "code",
      "metadata": {
        "id": "O2NXzx1Cq6w6",
        "colab_type": "code",
        "outputId": "b17df578-2cab-4503-d332-26eca8315b31",
        "colab": {
          "base_uri": "https://localhost:8080/",
          "height": 35
        }
      },
      "source": [
        "lr_model = LogisticRegression(max_iter=250)\n",
        "lr_model.fit(X_train, y_train)\n",
        "lr_predicted = lr_model.predict(X_validate)\n",
        "roc_auc_score(y_validate, lr_predicted)"
      ],
      "execution_count": 0,
      "outputs": [
        {
          "output_type": "execute_result",
          "data": {
            "text/plain": [
              "0.5321138352823582"
            ]
          },
          "metadata": {
            "tags": []
          },
          "execution_count": 127
        }
      ]
    },
    {
      "cell_type": "markdown",
      "metadata": {
        "id": "vsM6CeL3q_0I",
        "colab_type": "text"
      },
      "source": [
        "4.3 Build a Random Forest Classifier"
      ]
    },
    {
      "cell_type": "code",
      "metadata": {
        "id": "19dCkMJ2qOJm",
        "colab_type": "code",
        "colab": {}
      },
      "source": [
        "from sklearn.ensemble import RandomForestClassifier\n",
        "rf_model = RandomForestClassifier(max_depth=10)\n",
        "rf_model.fit(X_train, y_train)\n",
        "rf_predicted = rf_model.predict(X_validate)"
      ],
      "execution_count": 0,
      "outputs": []
    },
    {
      "cell_type": "code",
      "metadata": {
        "id": "xKKTCyv1YRp-",
        "colab_type": "code",
        "outputId": "aee10c65-7d48-4601-e75e-fddb235bd9ff",
        "colab": {
          "base_uri": "https://localhost:8080/",
          "height": 35
        }
      },
      "source": [
        "roc_auc_score(y_validate, rf_predicted)"
      ],
      "execution_count": 0,
      "outputs": [
        {
          "output_type": "execute_result",
          "data": {
            "text/plain": [
              "0.5869984015800089"
            ]
          },
          "metadata": {
            "tags": []
          },
          "execution_count": 134
        }
      ]
    },
    {
      "cell_type": "markdown",
      "metadata": {
        "id": "gInRlYO6rmNr",
        "colab_type": "text"
      },
      "source": [
        "4.4 Build a Gradient Boosting Classifier"
      ]
    },
    {
      "cell_type": "code",
      "metadata": {
        "id": "tFMS25k4sJov",
        "colab_type": "code",
        "colab": {}
      },
      "source": [
        "from sklearn.ensemble import GradientBoostingClassifier\n",
        "gbc_model = GradientBoostingClassifier(max_depth=10\n",
        "                                , n_estimators=100, learning_rate=.01)\n",
        "gbc_model.fit(X_train, y_train)\n",
        "gbc_predicted = gbc_model.predict(X_validate)"
      ],
      "execution_count": 0,
      "outputs": []
    },
    {
      "cell_type": "code",
      "metadata": {
        "id": "IyzyI-6bYXcW",
        "colab_type": "code",
        "outputId": "b271cc09-8f20-42e0-e86b-b961c10bf64d",
        "colab": {
          "base_uri": "https://localhost:8080/",
          "height": 35
        }
      },
      "source": [
        "roc_auc_score(y_validate, gbc_predicted)"
      ],
      "execution_count": 0,
      "outputs": [
        {
          "output_type": "execute_result",
          "data": {
            "text/plain": [
              "0.5785694559513948"
            ]
          },
          "metadata": {
            "tags": []
          },
          "execution_count": 136
        }
      ]
    },
    {
      "cell_type": "markdown",
      "metadata": {
        "id": "7QwRBZJMsiFq",
        "colab_type": "text"
      },
      "source": [
        "4.5 Evaluation of models on the validation set\n",
        "\n",
        "The Random Forest Classifier had the best ROC AUC SCORE of 0.587"
      ]
    },
    {
      "cell_type": "markdown",
      "metadata": {
        "id": "1447c0SijLh2",
        "colab_type": "text"
      },
      "source": [
        "#Section F - Model Evaluation"
      ]
    },
    {
      "cell_type": "markdown",
      "metadata": {
        "id": "5Q7-rNtguJtZ",
        "colab_type": "text"
      },
      "source": [
        "5.1 Evaluate Logistic Regression Model against the TEST_SET"
      ]
    },
    {
      "cell_type": "code",
      "metadata": {
        "id": "9nSeCwEqyplM",
        "colab_type": "code",
        "colab": {}
      },
      "source": [
        "\n",
        "def build_confusion_matrix(y_validate, predicted):\n",
        "    cnf = confusion_matrix(y_validate, predicted)\n",
        "    class_names=[\"On time\",\"Delayed\"] # name  of classes\n",
        "    fig, ax = plt.subplots()\n",
        "    tick_marks = np.arange(len(class_names))\n",
        "    plt.xticks(tick_marks, class_names)\n",
        "    plt.yticks(tick_marks, class_names)\n",
        "    # create heatmap\n",
        "    sns.heatmap(pd.DataFrame(cnf), annot=True, cmap=\"YlGnBu\" ,fmt='g')\n",
        "    ax.xaxis.set_label_position(\"top\")\n",
        "    plt.tight_layout()\n",
        "    plt.title('Confusion matrix', y=1.1)\n",
        "    plt.ylabel('Actual label')\n",
        "    plt.xlabel('Predicted label')\n"
      ],
      "execution_count": 0,
      "outputs": []
    },
    {
      "cell_type": "code",
      "metadata": {
        "id": "uVyZ0KwMtHrL",
        "colab_type": "code",
        "outputId": "4e991627-0c64-4f90-c1db-dfd96a78af05",
        "colab": {
          "base_uri": "https://localhost:8080/",
          "height": 35
        }
      },
      "source": [
        "lr_predicted_on_test = lr_model.predict(X_test)\n",
        "roc_auc_score(y_test, lr_predicted_on_test)"
      ],
      "execution_count": 0,
      "outputs": [
        {
          "output_type": "execute_result",
          "data": {
            "text/plain": [
              "0.5438814066998833"
            ]
          },
          "metadata": {
            "tags": []
          },
          "execution_count": 141
        }
      ]
    },
    {
      "cell_type": "markdown",
      "metadata": {
        "id": "sWDa4NYju6FA",
        "colab_type": "text"
      },
      "source": [
        "The Confusion Matrix illustrates shows the breakdown of the actual vs the predicted values"
      ]
    },
    {
      "cell_type": "code",
      "metadata": {
        "id": "L_DSIdID1bDp",
        "colab_type": "code",
        "outputId": "cea5ad3e-6b7c-4661-fb99-5cb42b4d960e",
        "colab": {
          "base_uri": "https://localhost:8080/",
          "height": 325
        }
      },
      "source": [
        "build_confusion_matrix(y_test, lr_predicted_on_test)"
      ],
      "execution_count": 0,
      "outputs": [
        {
          "output_type": "display_data",
          "data": {
            "image/png": "[encoded data removed]",
            "text/plain": [
              "<Figure size 432x288 with 2 Axes>"
            ]
          },
          "metadata": {
            "tags": [],
            "needs_background": "light"
          }
        }
      ]
    },
    {
      "cell_type": "code",
      "metadata": {
        "id": "Z4Eu-RBKQ1p5",
        "colab_type": "code",
        "outputId": "4030ad36-7cee-4af8-ff0d-6088b5067437",
        "colab": {
          "base_uri": "https://localhost:8080/",
          "height": 181
        }
      },
      "source": [
        "print(classification_report(y_test, lr_predicted_on_test,target_names=['On time', 'Delayed']))"
      ],
      "execution_count": 0,
      "outputs": [
        {
          "output_type": "stream",
          "text": [
            "              precision    recall  f1-score   support\n",
            "\n",
            "     On time       0.54      0.58      0.56      2337\n",
            "     Delayed       0.54      0.50      0.52      2301\n",
            "\n",
            "    accuracy                           0.54      4638\n",
            "   macro avg       0.54      0.54      0.54      4638\n",
            "weighted avg       0.54      0.54      0.54      4638\n",
            "\n"
          ],
          "name": "stdout"
        }
      ]
    },
    {
      "cell_type": "markdown",
      "metadata": {
        "id": "IhX9M_A0vPK8",
        "colab_type": "text"
      },
      "source": [
        "5.2 Evaluate Random Forest Classifier Model against the TEST_SET"
      ]
    },
    {
      "cell_type": "code",
      "metadata": {
        "id": "T6V-DXOCtaf9",
        "colab_type": "code",
        "outputId": "cba7c13f-c6bc-4425-a594-3161ea3cb760",
        "colab": {
          "base_uri": "https://localhost:8080/",
          "height": 35
        }
      },
      "source": [
        "rf_predicted_on_test = rf_model.predict(X_test)\n",
        "roc_auc_score(y_test, rf_predicted_on_test)"
      ],
      "execution_count": 0,
      "outputs": [
        {
          "output_type": "execute_result",
          "data": {
            "text/plain": [
              "0.587778434224334"
            ]
          },
          "metadata": {
            "tags": []
          },
          "execution_count": 144
        }
      ]
    },
    {
      "cell_type": "code",
      "metadata": {
        "id": "u4slS6sgvYU3",
        "colab_type": "code",
        "outputId": "d4de32f6-46ac-4cbf-cff6-aa0ac08ba86f",
        "colab": {
          "base_uri": "https://localhost:8080/",
          "height": 325
        }
      },
      "source": [
        "build_confusion_matrix(y_test, rf_predicted_on_test)"
      ],
      "execution_count": 0,
      "outputs": [
        {
          "output_type": "display_data",
          "data": {
            "image/png": "[encoded data removed]",
            "text/plain": [
              "<Figure size 432x288 with 2 Axes>"
            ]
          },
          "metadata": {
            "tags": [],
            "needs_background": "light"
          }
        }
      ]
    },
    {
      "cell_type": "code",
      "metadata": {
        "id": "BweZ1oPgwTFK",
        "colab_type": "code",
        "outputId": "a3bd7c72-1f58-4715-9423-0bccb5b2fba4",
        "colab": {
          "base_uri": "https://localhost:8080/",
          "height": 181
        }
      },
      "source": [
        "print(classification_report(y_test, rf_predicted_on_test,target_names=['On time', 'Delayed']))"
      ],
      "execution_count": 0,
      "outputs": [
        {
          "output_type": "stream",
          "text": [
            "              precision    recall  f1-score   support\n",
            "\n",
            "     On time       0.59      0.61      0.60      2337\n",
            "     Delayed       0.59      0.56      0.58      2301\n",
            "\n",
            "    accuracy                           0.59      4638\n",
            "   macro avg       0.59      0.59      0.59      4638\n",
            "weighted avg       0.59      0.59      0.59      4638\n",
            "\n"
          ],
          "name": "stdout"
        }
      ]
    },
    {
      "cell_type": "markdown",
      "metadata": {
        "id": "uVQs8y7Evdp9",
        "colab_type": "text"
      },
      "source": [
        "5.3 Evaluate Gradient Boosting Classifier Model against the TEST_SET"
      ]
    },
    {
      "cell_type": "code",
      "metadata": {
        "id": "-9Ibob-Vt3zf",
        "colab_type": "code",
        "outputId": "e57ed53c-00ba-4325-f2bd-0dfc621d89f6",
        "colab": {
          "base_uri": "https://localhost:8080/",
          "height": 35
        }
      },
      "source": [
        "gbc_predicted_on_test = gbc_model.predict(X_test)\n",
        "roc_auc_score(y_test, gbc_predicted_on_test)"
      ],
      "execution_count": 0,
      "outputs": [
        {
          "output_type": "execute_result",
          "data": {
            "text/plain": [
              "0.5717788046610309"
            ]
          },
          "metadata": {
            "tags": []
          },
          "execution_count": 147
        }
      ]
    },
    {
      "cell_type": "code",
      "metadata": {
        "id": "F0AQboXDvkLE",
        "colab_type": "code",
        "outputId": "a7c68277-7add-408b-ae52-636fb715a9ba",
        "colab": {
          "base_uri": "https://localhost:8080/",
          "height": 324
        }
      },
      "source": [
        "build_confusion_matrix(y_test, gbc_predicted_on_test)"
      ],
      "execution_count": 0,
      "outputs": [
        {
          "output_type": "display_data",
          "data": {
            "image/png": "[encoded data removed]",
            "text/plain": [
              "<Figure size 432x288 with 2 Axes>"
            ]
          },
          "metadata": {
            "tags": [],
            "needs_background": "light"
          }
        }
      ]
    },
    {
      "cell_type": "code",
      "metadata": {
        "id": "ppampKRuwjn7",
        "colab_type": "code",
        "outputId": "b21ad7f7-bc3c-4b35-df55-69a06121f5ce",
        "colab": {
          "base_uri": "https://localhost:8080/",
          "height": 181
        }
      },
      "source": [
        "print(classification_report(y_test, gbc_predicted_on_test,target_names=['On time', 'Delayed']))"
      ],
      "execution_count": 0,
      "outputs": [
        {
          "output_type": "stream",
          "text": [
            "              precision    recall  f1-score   support\n",
            "\n",
            "     On time       0.57      0.60      0.59      2337\n",
            "     Delayed       0.57      0.54      0.56      2301\n",
            "\n",
            "    accuracy                           0.57      4638\n",
            "   macro avg       0.57      0.57      0.57      4638\n",
            "weighted avg       0.57      0.57      0.57      4638\n",
            "\n"
          ],
          "name": "stdout"
        }
      ]
    },
    {
      "cell_type": "markdown",
      "metadata": {
        "id": "9GbEdKwfZ6gy",
        "colab_type": "text"
      },
      "source": [
        "#Conclusion\n",
        "\n",
        "Flight delays present a huge monetary burden on airlines. As was highlighted in the literature review, there have been a number of different approaches to predicting flight delays. Most of these approaches have involved complex models with many different factors (for example weather) which is understandable. \n",
        "\n",
        "We have seen that a relatively simplistic model like the one that has been constructed above (that depends on flight factors alone) is not robust enough to classify flight delays. While the Random Forest classifier proved to be slightly better than Logistic Regression, the results are still weak. Any future work would involve developing a more expansive model that takes into account more non-flight factors and possibly a larger data-set covering a number of years of data.\n"
      ]
    },
    {
      "cell_type": "markdown",
      "metadata": {
        "id": "XA7Db0bjZeQc",
        "colab_type": "text"
      },
      "source": [
        "#References\n",
        "\n",
        "[1] Beyond Airline Disruptions. 2020. https://books.google.ie/books?id=4yOeWfX5gekC&pg=PA16&redir_esc=y#v=onepage&q&f=false\n",
        "\n",
        "[2] Flight cancellation and delay, Wikipedia. 2020. https://en.wikipedia.org/wiki/Flight_cancellation_and_delay#cite_note-3\n",
        "\n",
        "[3] Bureau of Transportation Statistics. 2020. https://www.bts.dot.gov/explore-topics-and-geography/topics/airline-time-performance-and-causes-flight-delays\n",
        "\n",
        "[4] Suvojit Manna, Sanket Biswas, Riyanka Kundu, Somnath Rakshit, Priti\n",
        "Gupta, Subhas Burman. 2017. \"A statistical approach to predict flight delay\n",
        "using gradient boosted decision tree\".\n",
        "\n",
        "[5] Guan Gui, Fan Liu, Jinlong Sun, Jie Yang, Ziqi Zhou and Dongxu Zhao. 2020. Flight Delay Prediction Based on Aviation Big Data and Machine Learning\n",
        "\n",
        "[6] Navoneel Chakrabarty. 2019. A Data Mining Approach to Flight Arrival Delay\n",
        "Prediction for American Airlines\n",
        "\n",
        "[7] Travel Stat Exchange. 2020. https://travel.stackexchange.com/a/86547\n",
        "\n",
        "[8] Kaggle. 2020. https://www.kaggle.com/usdot/flight-delays\n",
        "\n",
        "[9] Sun Choi, Young Jin Kim, Simon Briceno and Dimitri Mavris. 2017. Cost-sensitive Prediction of Airline Delays Using Machine Learning\n",
        "\n",
        "[10] Young Jin Kim, Sun Choi, Simon Briceno and Dimitri Mavris. 2016. A Deep Learning Approach to Flight Delay Prediction\n",
        "\n",
        "[11] Swaminathan Meenakshisundaram, Shubham Sinha, Gautham Balasubramanian, Natarajan Vijayarang. 2018. A Novel Approach: Airline Delay Prediction Using Machine Learning\n",
        "\n",
        "[12] Balasubramanian Thiagarajanα, Lakshminarasimhan Srinivasanβ, Aditya Vikram Sharmaψ, Dinesh Sreekanthanγ, Vineeth Vijayaraghavan. 2017. A Machine Learning Approach for Prediction of On-time Performance of Flights\n",
        "\n",
        "[13] Rahul Nigam and Prof. Govinda K.. 2017. Cloud Based Flight Delay Prediction using Logistic Regression.\n",
        "\n",
        "[14] StackOverFlow. 2020. https://stackoverflow.com/a/38251213\n"
      ]
    }
  ]
}